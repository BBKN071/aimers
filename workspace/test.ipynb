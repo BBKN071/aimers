{
 "cells": [
  {
   "cell_type": "code",
   "execution_count": 1,
   "id": "a55b7042-aeac-454d-ad87-2b0da1bb5df8",
   "metadata": {},
   "outputs": [],
   "source": [
    "import pandas as pd\n",
    "import numpy as np\n",
    "import matplotlib.pyplot as plt\n",
    "%matplotlib inline\n",
    "from sklearn.preprocessing import  OrdinalEncoder\n",
    "from sklearn.linear_model import *\n",
    "from sklearn.metrics import roc_auc_score, log_loss\n",
    "from catboost import CatBoostClassifier\n",
    "from sklearn.model_selection import train_test_split\n",
    "import optuna"
   ]
  },
  {
   "cell_type": "code",
   "execution_count": 2,
   "id": "8220e50d-8be2-4824-a538-81b15c5cd3e0",
   "metadata": {},
   "outputs": [],
   "source": [
    "train = pd.read_csv('./train.csv').drop(columns=['ID'])\n",
    "test = pd.read_csv('./test.csv').drop(columns=['ID'])"
   ]
  },
  {
   "cell_type": "markdown",
   "id": "3819c6b2",
   "metadata": {},
   "source": [
    "## 결측치 최빈값 대체"
   ]
  },
  {
   "cell_type": "code",
   "execution_count": 3,
   "id": "590f604d",
   "metadata": {},
   "outputs": [],
   "source": [
    "train = train.apply(lambda x:x.fillna(x.mode()[0]))\n",
    "test = test.apply(lambda x:x.fillna(x.mode()[0]))"
   ]
  },
  {
   "cell_type": "code",
   "execution_count": 4,
   "id": "ecbd0d5f",
   "metadata": {},
   "outputs": [],
   "source": [
    "X = train.drop('임신 성공 여부', axis=1)\n",
    "y = train['임신 성공 여부']"
   ]
  },
  {
   "cell_type": "code",
   "execution_count": 5,
   "id": "780fa52c",
   "metadata": {},
   "outputs": [
    {
     "name": "stdout",
     "output_type": "stream",
     "text": [
      "수치형 변수 목록: ['임신 시도 또는 마지막 임신 경과 연수', '배란 자극 여부', '단일 배아 이식 여부', '착상 전 유전 검사 사용 여부', '착상 전 유전 진단 사용 여부', '남성 주 불임 원인', '남성 부 불임 원인', '여성 주 불임 원인', '여성 부 불임 원인', '부부 주 불임 원인', '부부 부 불임 원인', '불명확 불임 원인', '불임 원인 - 난관 질환', '불임 원인 - 남성 요인', '불임 원인 - 배란 장애', '불임 원인 - 여성 요인', '불임 원인 - 자궁경부 문제', '불임 원인 - 자궁내막증', '불임 원인 - 정자 농도', '불임 원인 - 정자 면역학적 요인', '불임 원인 - 정자 운동성', '불임 원인 - 정자 형태', '총 생성 배아 수', '미세주입된 난자 수', '미세주입에서 생성된 배아 수', '이식된 배아 수', '미세주입 배아 이식 수', '저장된 배아 수', '미세주입 후 저장된 배아 수', '해동된 배아 수', '해동 난자 수', '수집된 신선 난자 수', '저장된 신선 난자 수', '혼합된 난자 수', '파트너 정자와 혼합된 난자 수', '기증자 정자와 혼합된 난자 수', '동결 배아 사용 여부', '신선 배아 사용 여부', '기증 배아 사용 여부', '대리모 여부', 'PGD 시술 여부', 'PGS 시술 여부', '난자 채취 경과일', '난자 해동 경과일', '난자 혼합 경과일', '배아 이식 경과일', '배아 해동 경과일']\n"
     ]
    }
   ],
   "source": [
    "numeric_cols = X.select_dtypes(include=[np.number]).columns\n",
    "print(\"수치형 변수 목록:\", numeric_cols.tolist())"
   ]
  },
  {
   "cell_type": "code",
   "execution_count": 6,
   "id": "63474190",
   "metadata": {},
   "outputs": [],
   "source": [
    "from sklearn.preprocessing import PowerTransformer\n",
    "\n",
    "#yeo-johnson\n",
    "pt = PowerTransformer(method='yeo-johnson', standardize=True)\n",
    "X[numeric_cols] = pt.fit_transform(X[numeric_cols])\n",
    "test[numeric_cols] = pt.fit_transform(test[numeric_cols])\n",
    "\n"
   ]
  },
  {
   "cell_type": "code",
   "execution_count": null,
   "id": "de8d3604",
   "metadata": {},
   "outputs": [],
   "source": [
    "from sklearn.preprocessing import QuantileTransformer\n",
    "\n",
    "qt = QuantileTransformer(output_distribution='normal', random_state=42)\n",
    "X[numeric_cols] = qt.fit_transform(X[numeric_cols])\n",
    "test[numeric_cols] = qt.fit_transform(test[numeric_cols])"
   ]
  },
  {
   "cell_type": "code",
   "execution_count": null,
   "id": "5f3e2979",
   "metadata": {},
   "outputs": [],
   "source": [
    "from sklearn.preprocessing import StandardScaler\n",
    "\n",
    "scaler = StandardScaler()\n",
    "X[numeric_cols] = scaler.fit_transform(X[numeric_cols])\n",
    "test[numeric_cols] = scaler.fit_transform(test[numeric_cols])"
   ]
  },
  {
   "cell_type": "code",
   "execution_count": 13,
   "id": "34b2b6cb",
   "metadata": {},
   "outputs": [],
   "source": [
    "from sklearn.preprocessing import QuantileTransformer\n",
    "\n",
    "\n",
    "qt = QuantileTransformer(output_distribution='normal', random_state=42)\n",
    "X[numeric_cols] = qt.fit_transform(X[numeric_cols])"
   ]
  },
  {
   "cell_type": "code",
   "execution_count": 14,
   "id": "ccf9d3a7",
   "metadata": {},
   "outputs": [],
   "source": [
    "categorical_columns = [\n",
    "    \"시술 시기 코드\",\n",
    "    \"시술 당시 나이\",\n",
    "    \"시술 유형\",\n",
    "    \"특정 시술 유형\",\n",
    "    \"배란 자극 여부\",\n",
    "    \"배란 유도 유형\",\n",
    "    \"단일 배아 이식 여부\",\n",
    "    \"착상 전 유전 검사 사용 여부\",\n",
    "    \"착상 전 유전 진단 사용 여부\",\n",
    "    \"남성 주 불임 원인\",\n",
    "    \"남성 부 불임 원인\",\n",
    "    \"여성 주 불임 원인\",\n",
    "    \"여성 부 불임 원인\",\n",
    "    \"부부 주 불임 원인\",\n",
    "    \"부부 부 불임 원인\",\n",
    "    \"불명확 불임 원인\",\n",
    "    \"불임 원인 - 난관 질환\",\n",
    "    \"불임 원인 - 남성 요인\",\n",
    "    \"불임 원인 - 배란 장애\",\n",
    "    \"불임 원인 - 여성 요인\",\n",
    "    \"불임 원인 - 자궁경부 문제\",\n",
    "    \"불임 원인 - 자궁내막증\",\n",
    "    \"불임 원인 - 정자 농도\",\n",
    "    \"불임 원인 - 정자 면역학적 요인\",\n",
    "    \"불임 원인 - 정자 운동성\",\n",
    "    \"불임 원인 - 정자 형태\",\n",
    "    \"배아 생성 주요 이유\",\n",
    "    \"총 시술 횟수\",\n",
    "    \"클리닉 내 총 시술 횟수\",\n",
    "    \"IVF 시술 횟수\",\n",
    "    \"DI 시술 횟수\",\n",
    "    \"총 임신 횟수\",\n",
    "    \"IVF 임신 횟수\",\n",
    "    \"DI 임신 횟수\",\n",
    "    \"총 출산 횟수\",\n",
    "    \"IVF 출산 횟수\",\n",
    "    \"DI 출산 횟수\",\n",
    "    \"난자 출처\",\n",
    "    \"정자 출처\",\n",
    "    \"난자 기증자 나이\",\n",
    "    \"정자 기증자 나이\",\n",
    "    \"동결 배아 사용 여부\",\n",
    "    \"신선 배아 사용 여부\",\n",
    "    \"기증 배아 사용 여부\",\n",
    "    \"대리모 여부\",\n",
    "    \"PGD 시술 여부\",\n",
    "    \"PGS 시술 여부\"\n",
    "]"
   ]
  },
  {
   "cell_type": "code",
   "execution_count": 15,
   "id": "9fcd9ddf",
   "metadata": {},
   "outputs": [],
   "source": [
    "# 카테고리형 컬럼들을 문자열로 변환\n",
    "for col in categorical_columns:\n",
    "    X[col] = X[col].astype(str)\n",
    "    test[col] = test[col].astype(str)"
   ]
  },
  {
   "cell_type": "code",
   "execution_count": 16,
   "id": "f613ad4b",
   "metadata": {},
   "outputs": [],
   "source": [
    "X_train, X_valid, y_train, y_valid = train_test_split(X, y, test_size=0.2, random_state=42)"
   ]
  },
  {
   "cell_type": "markdown",
   "id": "d1f18fcb",
   "metadata": {},
   "source": [
    "## catboost test"
   ]
  },
  {
   "cell_type": "code",
   "execution_count": 17,
   "id": "29fdcf33",
   "metadata": {},
   "outputs": [],
   "source": [
    "def objective(trial):\n",
    "    # 하이퍼파라미터 제안\n",
    "    params = {\n",
    "        'learning_rate': trial.suggest_loguniform('learning_rate', 0.01, 0.2),\n",
    "        'depth': trial.suggest_int('depth', 3, 15),\n",
    "        'l2_leaf_reg': trial.suggest_loguniform('l2_leaf_reg', 1e-2, 10.0),\n",
    "        'iterations': trial.suggest_int('iterations', 100, 500)\n",
    "    }\n",
    "    \n",
    "    model = CatBoostClassifier(\n",
    "        **params,\n",
    "        loss_function='Logloss',\n",
    "        verbose=0,\n",
    "        cat_features=categorical_columns,\n",
    "        random_state=42\n",
    "    )\n",
    "    \n",
    "    model.fit(\n",
    "        X_train, y_train,\n",
    "        eval_set=(X_valid, y_valid),\n",
    "        early_stopping_rounds=20\n",
    "    )\n",
    "    \n",
    "    pred_probas = model.predict_proba(X_valid)[:, 1]\n",
    "    \n",
    "    auc = roc_auc_score(y_valid, pred_probas)\n",
    "    log = log_loss(y_valid, pred_probas)\n",
    "    return auc, log\n"
   ]
  },
  {
   "cell_type": "code",
   "execution_count": 18,
   "id": "21e38256",
   "metadata": {},
   "outputs": [
    {
     "name": "stderr",
     "output_type": "stream",
     "text": [
      "[I 2025-02-10 05:19:43,290] A new study created in memory with name: no-name-3859ebfa-ca3b-4ae2-9a65-86e238b5ca3d\n",
      "/tmp/ipykernel_2483/1702635057.py:4: FutureWarning: suggest_loguniform has been deprecated in v3.0.0. This feature will be removed in v6.0.0. See https://github.com/optuna/optuna/releases/tag/v3.0.0. Use suggest_float(..., log=True) instead.\n",
      "  'learning_rate': trial.suggest_loguniform('learning_rate', 0.01, 0.2),\n",
      "/tmp/ipykernel_2483/1702635057.py:6: FutureWarning: suggest_loguniform has been deprecated in v3.0.0. This feature will be removed in v6.0.0. See https://github.com/optuna/optuna/releases/tag/v3.0.0. Use suggest_float(..., log=True) instead.\n",
      "  'l2_leaf_reg': trial.suggest_loguniform('l2_leaf_reg', 1e-2, 10.0),\n",
      "[I 2025-02-10 05:20:37,359] Trial 0 finished with values: [0.7288481472824561, 0.49299414304214356] and parameters: {'learning_rate': 0.07641287770146188, 'depth': 15, 'l2_leaf_reg': 0.012002707283675626, 'iterations': 273}.\n",
      "/tmp/ipykernel_2483/1702635057.py:4: FutureWarning: suggest_loguniform has been deprecated in v3.0.0. This feature will be removed in v6.0.0. See https://github.com/optuna/optuna/releases/tag/v3.0.0. Use suggest_float(..., log=True) instead.\n",
      "  'learning_rate': trial.suggest_loguniform('learning_rate', 0.01, 0.2),\n",
      "/tmp/ipykernel_2483/1702635057.py:6: FutureWarning: suggest_loguniform has been deprecated in v3.0.0. This feature will be removed in v6.0.0. See https://github.com/optuna/optuna/releases/tag/v3.0.0. Use suggest_float(..., log=True) instead.\n",
      "  'l2_leaf_reg': trial.suggest_loguniform('l2_leaf_reg', 1e-2, 10.0),\n",
      "[I 2025-02-10 05:20:46,461] Trial 1 finished with values: [0.7313365769289326, 0.4924222644985174] and parameters: {'learning_rate': 0.020680409440789697, 'depth': 4, 'l2_leaf_reg': 0.14975448557474513, 'iterations': 159}.\n",
      "/tmp/ipykernel_2483/1702635057.py:4: FutureWarning: suggest_loguniform has been deprecated in v3.0.0. This feature will be removed in v6.0.0. See https://github.com/optuna/optuna/releases/tag/v3.0.0. Use suggest_float(..., log=True) instead.\n",
      "  'learning_rate': trial.suggest_loguniform('learning_rate', 0.01, 0.2),\n",
      "/tmp/ipykernel_2483/1702635057.py:6: FutureWarning: suggest_loguniform has been deprecated in v3.0.0. This feature will be removed in v6.0.0. See https://github.com/optuna/optuna/releases/tag/v3.0.0. Use suggest_float(..., log=True) instead.\n",
      "  'l2_leaf_reg': trial.suggest_loguniform('l2_leaf_reg', 1e-2, 10.0),\n",
      "[I 2025-02-10 05:21:03,507] Trial 2 finished with values: [0.7386707601272936, 0.4863610131159942] and parameters: {'learning_rate': 0.060620929075617995, 'depth': 9, 'l2_leaf_reg': 6.035860771556935, 'iterations': 190}.\n",
      "/tmp/ipykernel_2483/1702635057.py:4: FutureWarning: suggest_loguniform has been deprecated in v3.0.0. This feature will be removed in v6.0.0. See https://github.com/optuna/optuna/releases/tag/v3.0.0. Use suggest_float(..., log=True) instead.\n",
      "  'learning_rate': trial.suggest_loguniform('learning_rate', 0.01, 0.2),\n",
      "/tmp/ipykernel_2483/1702635057.py:6: FutureWarning: suggest_loguniform has been deprecated in v3.0.0. This feature will be removed in v6.0.0. See https://github.com/optuna/optuna/releases/tag/v3.0.0. Use suggest_float(..., log=True) instead.\n",
      "  'l2_leaf_reg': trial.suggest_loguniform('l2_leaf_reg', 1e-2, 10.0),\n",
      "[I 2025-02-10 05:22:02,836] Trial 3 finished with values: [0.7384912273385553, 0.48658058428407946] and parameters: {'learning_rate': 0.034617034832347245, 'depth': 9, 'l2_leaf_reg': 0.07798928805795005, 'iterations': 281}.\n",
      "/tmp/ipykernel_2483/1702635057.py:4: FutureWarning: suggest_loguniform has been deprecated in v3.0.0. This feature will be removed in v6.0.0. See https://github.com/optuna/optuna/releases/tag/v3.0.0. Use suggest_float(..., log=True) instead.\n",
      "  'learning_rate': trial.suggest_loguniform('learning_rate', 0.01, 0.2),\n",
      "/tmp/ipykernel_2483/1702635057.py:6: FutureWarning: suggest_loguniform has been deprecated in v3.0.0. This feature will be removed in v6.0.0. See https://github.com/optuna/optuna/releases/tag/v3.0.0. Use suggest_float(..., log=True) instead.\n",
      "  'l2_leaf_reg': trial.suggest_loguniform('l2_leaf_reg', 1e-2, 10.0),\n"
     ]
    },
    {
     "ename": "",
     "evalue": "",
     "output_type": "error",
     "traceback": [
      "\u001b[1;31mThe Kernel crashed while executing code in the current cell or a previous cell. \n",
      "\u001b[1;31mPlease review the code in the cell(s) to identify a possible cause of the failure. \n",
      "\u001b[1;31mClick <a href='https://aka.ms/vscodeJupyterKernelCrash'>here</a> for more info. \n",
      "\u001b[1;31mView Jupyter <a href='command:jupyter.viewOutput'>log</a> for further details."
     ]
    },
    {
     "ename": "",
     "evalue": "",
     "output_type": "error",
     "traceback": [
      "\u001b[1;31mCanceled future for execute_request message before replies were done"
     ]
    },
    {
     "ename": "",
     "evalue": "",
     "output_type": "error",
     "traceback": [
      "\u001b[1;31mCanceled future for execute_request message before replies were done. \n",
      "\u001b[1;31mView Jupyter <a href='command:jupyter.viewOutput'>log</a> for further details."
     ]
    }
   ],
   "source": [
    "study = optuna.create_study(directions=[\"maximize\", \"minimize\"])\n",
    "study.optimize(objective, n_trials=20)\n",
    "\n",
    "print(\"Pareto front (ROC-AUC) 최적의 트라이얼들:\")\n",
    "for trial in study.best_trials:\n",
    "    print(\"Trial values: {} | Params: {}\".format(trial.values, trial.params))"
   ]
  },
  {
   "cell_type": "code",
   "execution_count": 11,
   "id": "56882b0b",
   "metadata": {},
   "outputs": [
    {
     "data": {
      "text/plain": [
       "FrozenTrial(number=29, state=TrialState.COMPLETE, values=[0.73681771917698, 0.48971481194801153], datetime_start=datetime.datetime(2025, 2, 6, 12, 8, 7, 940699), datetime_complete=datetime.datetime(2025, 2, 6, 12, 9, 5, 145463), params={'learning_rate': 0.06466646841320191, 'depth': 6, 'l2_leaf_reg': 3.811996666965158, 'iterations': 355}, user_attrs={}, system_attrs={'nsga2:generation': 0}, intermediate_values={}, distributions={'learning_rate': FloatDistribution(high=0.3, log=True, low=0.01, step=None), 'depth': IntDistribution(high=10, log=False, low=3, step=1), 'l2_leaf_reg': FloatDistribution(high=10.0, log=True, low=0.01, step=None), 'iterations': IntDistribution(high=500, log=False, low=100, step=1)}, trial_id=29, value=None)"
      ]
     },
     "execution_count": 11,
     "metadata": {},
     "output_type": "execute_result"
    }
   ],
   "source": [
    "study.best_trials[0]\n",
    "# parameters: {'learning_rate': 0.19603157179850195, 'depth': 6, 'l2_leaf_reg': 3.1113757733956238, 'iterations': 402, 'bagging_temperature': 0.056808024089444596, 'random_strength': 3.484431922663257, 'bootstrap_type': 'Bayesian'}. Best is trial 23 with value: 0.4863828367708195.\n"
   ]
  },
  {
   "cell_type": "code",
   "execution_count": 12,
   "id": "dd8c19d4",
   "metadata": {},
   "outputs": [
    {
     "name": "stdout",
     "output_type": "stream",
     "text": [
      "최적의 파라미터가 best_params.pkl 파일에 저장되었습니다.\n"
     ]
    }
   ],
   "source": [
    "import pickle\n",
    "\n",
    "best_params = study.best_trials[0].params\n",
    "\n",
    "with open('best_params_cat.pkl', 'wb') as f:\n",
    "    pickle.dump(best_params, f)\n",
    "\n",
    "print(\"최적의 파라미터가 best_params.pkl 파일에 저장되었습니다.\")"
   ]
  },
  {
   "cell_type": "code",
   "execution_count": 11,
   "id": "7498c664",
   "metadata": {},
   "outputs": [
    {
     "name": "stdout",
     "output_type": "stream",
     "text": [
      "0.7390375020918579\n"
     ]
    }
   ],
   "source": [
    "best_params = study.best_trials[0].params\n",
    "\n",
    "# params 직접 입력\n",
    "# best_params = {'learning_rate': 0.19603157179850195, 'depth': 6, 'l2_leaf_reg': 3.1113757733956238, 'iterations': 402, 'bagging_temperature': 0.056808024089444596, 'random_strength': 3.484431922663257, 'bootstrap_type': 'Bayesian'}\n",
    "\n",
    "final_model = CatBoostClassifier(\n",
    "        **best_params,\n",
    "        loss_function='Logloss',\n",
    "        verbose=0,\n",
    "        cat_features=categorical_columns,\n",
    "        random_state=42\n",
    "    )\n",
    "final_model.fit(X_train, y_train, eval_set=(X_valid, y_valid), early_stopping_rounds=20)\n",
    "pred_probas = final_model.predict_proba(X_valid)[:, 1]\n",
    "print(roc_auc_score(y_valid, pred_probas))\n",
    "\n",
    "\n"
   ]
  },
  {
   "cell_type": "code",
   "execution_count": null,
   "id": "dd73a51a",
   "metadata": {},
   "outputs": [],
   "source": [
    "pred_probas = final_model.predict_proba(test)[:, 1]\n",
    "print(\"예측 확률:\", pred_probas)\n",
    "\n",
    "sample_submission = pd.read_csv('./sample_submission.csv')\n",
    "sample_submission['probability'] = pred_probas\n",
    "display(sample_submission)"
   ]
  },
  {
   "cell_type": "code",
   "execution_count": 12,
   "id": "e281944c",
   "metadata": {},
   "outputs": [
    {
     "name": "stdout",
     "output_type": "stream",
     "text": [
      "예측 확률: [0.00259504 0.00337439 0.14571136 ... 0.42782995 0.16513194 0.00321686]\n"
     ]
    },
    {
     "ename": "",
     "evalue": "",
     "output_type": "error",
     "traceback": [
      "\u001b[1;31mThe Kernel crashed while executing code in the current cell or a previous cell. \n",
      "\u001b[1;31mPlease review the code in the cell(s) to identify a possible cause of the failure. \n",
      "\u001b[1;31mClick <a href='https://aka.ms/vscodeJupyterKernelCrash'>here</a> for more info. \n",
      "\u001b[1;31mView Jupyter <a href='command:jupyter.viewOutput'>log</a> for further details."
     ]
    }
   ],
   "source": [
    "pred_probas = final_model.predict_proba(test)[:, 1]\n",
    "print(\"예측 확률:\", pred_probas)\n",
    "sample_submission = pd.read_csv('./sample_submission.csv')\n",
    "sample_submission['probability'] = pred_probas\n",
    "sample_submission.to_csv('./submit/submit_19.csv', index=False)"
   ]
  },
  {
   "cell_type": "markdown",
   "id": "dbd3425b",
   "metadata": {},
   "source": [
    "## lightGBM test"
   ]
  },
  {
   "cell_type": "code",
   "execution_count": 9,
   "id": "b994f783",
   "metadata": {},
   "outputs": [],
   "source": [
    "def objective(trial):\n",
    "    # LightGBM 모델의 하이퍼파라미터 제안\n",
    "    params = {\n",
    "        'learning_rate': trial.suggest_loguniform('learning_rate', 0.01, 0.3),\n",
    "        'max_depth': trial.suggest_int('max_depth', 3, 10),\n",
    "        'num_leaves': trial.suggest_int('num_leaves', 20, 150),\n",
    "        'n_estimators': trial.suggest_int('n_estimators', 100, 1000),\n",
    "        'min_child_samples': trial.suggest_int('min_child_samples', 5, 100),\n",
    "        'subsample': trial.suggest_uniform('subsample', 0.5, 1.0),\n",
    "        'colsample_bytree': trial.suggest_uniform('colsample_bytree', 0.5, 1.0),\n",
    "        # 추가 옵션: 필요에 따라 reg_lambda, reg_alpha 등 정규화 파라미터도 제안 가능\n",
    "    }\n",
    "    \n",
    "    # LGBMClassifier 모델 생성\n",
    "    model = LGBMClassifier(\n",
    "        **params,\n",
    "        random_state=42,\n",
    "        n_jobs=-1\n",
    "    )\n",
    "    \n",
    "    # 모델 학습 (early stopping 적용)\n",
    "    model.fit(\n",
    "        X_train, y_train,\n",
    "        eval_set=[(X_valid, y_valid)],\n",
    "        eval_metric='auc',\n",
    "        callbacks=[early_stopping(stopping_rounds=50)]\n",
    "    )\n",
    "    \n",
    "    # 검증 데이터에 대한 예측 확률 (양성 클래스 확률)\n",
    "    pred_probas = model.predict_proba(X_valid)[:, 1]\n",
    "    \n",
    "    # 두 지표 계산\n",
    "    auc = roc_auc_score(y_valid, pred_probas)\n",
    "    loss = log_loss(y_valid, pred_probas)\n",
    "    \n",
    "    # Optuna 다중 목표: 첫 번째 목표(ROC-AUC)는 최대화, 두 번째 목표(Log Loss)는 최소화\n",
    "    return auc, loss"
   ]
  },
  {
   "cell_type": "code",
   "execution_count": null,
   "id": "0352cf55",
   "metadata": {},
   "outputs": [],
   "source": [
    "# 3. 다중 목표 최적화를 위한 Optuna Study 생성 및 최적화 수행\n",
    "study = optuna.create_study(directions=[\"maximize\", \"minimize\"])\n",
    "study.optimize(objective, n_trials=50)\n",
    "\n",
    "# 4. Pareto Front (최적의 트라이얼 목록) 출력\n",
    "print(\"Pareto Front (ROC-AUC, Log Loss) 최적의 트라이얼들:\")\n",
    "for trial in study.best_trials:\n",
    "    print(\"Trial values (ROC-AUC, Log Loss): {} | Params: {}\".format(trial.values, trial.params))"
   ]
  },
  {
   "cell_type": "code",
   "execution_count": 15,
   "id": "17ff32db",
   "metadata": {},
   "outputs": [
    {
     "name": "stdout",
     "output_type": "stream",
     "text": [
      "최적의 파라미터가 best_params.pkl 파일에 저장되었습니다.\n"
     ]
    }
   ],
   "source": [
    "import pickle\n",
    "\n",
    "# 최적의 파라미터 추출\n",
    "best_params = study.best_trials[0].params\n",
    "\n",
    "# best_params를 pickle 파일로 저장\n",
    "with open('best_params_lightgbm.pkl', 'wb') as f:\n",
    "    pickle.dump(best_params, f)\n",
    "\n",
    "print(\"최적의 파라미터가 best_params.pkl 파일에 저장되었습니다.\")"
   ]
  },
  {
   "cell_type": "code",
   "execution_count": 12,
   "id": "4c42f6fc",
   "metadata": {},
   "outputs": [
    {
     "name": "stdout",
     "output_type": "stream",
     "text": [
      "[LightGBM] [Warning] Found whitespace in feature_names, replace with underlines\n",
      "[LightGBM] [Info] Number of positive: 53102, number of negative: 151978\n",
      "[LightGBM] [Info] Auto-choosing row-wise multi-threading, the overhead of testing was 0.024228 seconds.\n",
      "You can set `force_row_wise=true` to remove the overhead.\n",
      "And if memory is not enough, you can set `force_col_wise=true`.\n",
      "[LightGBM] [Info] Total Bins 702\n",
      "[LightGBM] [Info] Number of data points in the train set: 205080, number of used features: 59\n",
      "[LightGBM] [Warning] Found whitespace in feature_names, replace with underlines\n",
      "[LightGBM] [Info] [binary:BoostFromScore]: pavg=0.258933 -> initscore=-1.051521\n",
      "[LightGBM] [Info] Start training from score -1.051521\n",
      "Training until validation scores don't improve for 50 rounds\n",
      "Did not meet early stopping. Best iteration is:\n",
      "[253]\tvalid_0's auc: 0.739286\tvalid_0's binary_logloss: 0.485829\n",
      "\n",
      "최종 모델 평가:\n",
      "ROC-AUC: 0.7393\n",
      "Log Loss: 0.4858\n"
     ]
    }
   ],
   "source": [
    "# 5. 최적의 파라미터를 사용해 최종 모델 구축 (전체 데이터로 재학습 가능)\n",
    "best_params = study.best_trials[0].params\n",
    "\n",
    "final_model = LGBMClassifier(**best_params, random_state=42, n_jobs=-1)\n",
    "final_model.fit(X_train, y_train, eval_set=[(X_valid, y_valid)], eval_metric='auc', callbacks=[early_stopping(stopping_rounds=50)])\n",
    "\n",
    "# 최종 모델의 검증 예측 및 평가 (예시)\n",
    "pred_probas_final = final_model.predict_proba(X_valid)[:, 1]\n",
    "final_auc = roc_auc_score(y_valid, pred_probas_final)\n",
    "final_loss = log_loss(y_valid, pred_probas_final)\n",
    "print(\"\\n최종 모델 평가:\")\n",
    "print(\"ROC-AUC: {:.4f}\".format(final_auc))\n",
    "print(\"Log Loss: {:.4f}\".format(final_loss))"
   ]
  },
  {
   "cell_type": "code",
   "execution_count": 13,
   "id": "fba9a6a8",
   "metadata": {},
   "outputs": [
    {
     "name": "stdout",
     "output_type": "stream",
     "text": [
      "예측 확률: [0.00133422 0.000832   0.14547465 ... 0.42629758 0.17508381 0.00137922]\n"
     ]
    }
   ],
   "source": [
    "pred_probas = final_model.predict_proba(test_encoded)[:, 1]\n",
    "print(\"예측 확률:\", pred_probas)"
   ]
  },
  {
   "cell_type": "code",
   "execution_count": 14,
   "id": "63552938",
   "metadata": {},
   "outputs": [],
   "source": [
    "sample_submission = pd.read_csv('./sample_submission.csv')\n",
    "sample_submission['probability'] = pred_probas\n",
    "sample_submission.to_csv('./submit/submit_10.csv', index=False)"
   ]
  },
  {
   "cell_type": "markdown",
   "id": "ff873c20",
   "metadata": {},
   "source": [
    "## gradient boosting test"
   ]
  },
  {
   "cell_type": "code",
   "execution_count": 16,
   "id": "43c8437e",
   "metadata": {},
   "outputs": [],
   "source": [
    "def objective(trial):\n",
    "    # GradientBoostingClassifier의 하이퍼파라미터 제안\n",
    "    params = {\n",
    "        'n_estimators': trial.suggest_int('n_estimators', 100, 1000),\n",
    "        'learning_rate': trial.suggest_loguniform('learning_rate', 0.01, 0.3),\n",
    "        'max_depth': trial.suggest_int('max_depth', 1, 10),\n",
    "        'subsample': trial.suggest_uniform('subsample', 0.5, 1.0),\n",
    "        'min_samples_split': trial.suggest_int('min_samples_split', 2, 20),\n",
    "        'min_samples_leaf': trial.suggest_int('min_samples_leaf', 1, 20)\n",
    "    }\n",
    "    \n",
    "    # 모델 생성\n",
    "    model = GradientBoostingClassifier(**params, random_state=42)\n",
    "    \n",
    "    # 모델 학습\n",
    "    model.fit(X_train, y_train)\n",
    "    \n",
    "    # 검증 데이터에 대한 예측 확률(양성 클래스)\n",
    "    pred_probas = model.predict_proba(X_valid)[:, 1]\n",
    "    \n",
    "    \n",
    "    # 두 지표 계산\n",
    "    auc = roc_auc_score(y_valid, pred_probas)\n",
    "    loss = log_loss(y_valid, pred_probas)\n",
    "    \n",
    "    # Optuna 다중 목표: 첫 번째 목표(ROC-AUC)는 최대화, 두 번째 목표(Log Loss)는 최소화\n",
    "    return auc, loss"
   ]
  },
  {
   "cell_type": "code",
   "execution_count": 17,
   "id": "1b68ece5",
   "metadata": {},
   "outputs": [
    {
     "name": "stderr",
     "output_type": "stream",
     "text": [
      "[I 2025-02-05 05:05:40,969] A new study created in memory with name: no-name-01c75b3a-8865-4536-b2c7-6d0e143ea7bf\n",
      "/tmp/ipykernel_2152/3904728162.py:5: FutureWarning: suggest_loguniform has been deprecated in v3.0.0. This feature will be removed in v6.0.0. See https://github.com/optuna/optuna/releases/tag/v3.0.0. Use suggest_float(..., log=True) instead.\n",
      "  'learning_rate': trial.suggest_loguniform('learning_rate', 0.01, 0.3),\n",
      "/tmp/ipykernel_2152/3904728162.py:7: FutureWarning: suggest_uniform has been deprecated in v3.0.0. This feature will be removed in v6.0.0. See https://github.com/optuna/optuna/releases/tag/v3.0.0. Use suggest_float instead.\n",
      "  'subsample': trial.suggest_uniform('subsample', 0.5, 1.0),\n",
      "[I 2025-02-05 05:06:01,439] Trial 0 finished with values: [0.7378990630293993, 0.48705958360291896] and parameters: {'n_estimators': 101, 'learning_rate': 0.16569422918719784, 'max_depth': 3, 'subsample': 0.8388700939952699, 'min_samples_split': 15, 'min_samples_leaf': 18}.\n",
      "/tmp/ipykernel_2152/3904728162.py:5: FutureWarning: suggest_loguniform has been deprecated in v3.0.0. This feature will be removed in v6.0.0. See https://github.com/optuna/optuna/releases/tag/v3.0.0. Use suggest_float(..., log=True) instead.\n",
      "  'learning_rate': trial.suggest_loguniform('learning_rate', 0.01, 0.3),\n",
      "/tmp/ipykernel_2152/3904728162.py:7: FutureWarning: suggest_uniform has been deprecated in v3.0.0. This feature will be removed in v6.0.0. See https://github.com/optuna/optuna/releases/tag/v3.0.0. Use suggest_float instead.\n",
      "  'subsample': trial.suggest_uniform('subsample', 0.5, 1.0),\n",
      "[I 2025-02-05 05:08:55,980] Trial 1 finished with values: [0.7378535100082733, 0.4867561439659727] and parameters: {'n_estimators': 443, 'learning_rate': 0.050171133927288, 'max_depth': 6, 'subsample': 0.8753963978433514, 'min_samples_split': 9, 'min_samples_leaf': 18}.\n",
      "/tmp/ipykernel_2152/3904728162.py:5: FutureWarning: suggest_loguniform has been deprecated in v3.0.0. This feature will be removed in v6.0.0. See https://github.com/optuna/optuna/releases/tag/v3.0.0. Use suggest_float(..., log=True) instead.\n",
      "  'learning_rate': trial.suggest_loguniform('learning_rate', 0.01, 0.3),\n",
      "/tmp/ipykernel_2152/3904728162.py:7: FutureWarning: suggest_uniform has been deprecated in v3.0.0. This feature will be removed in v6.0.0. See https://github.com/optuna/optuna/releases/tag/v3.0.0. Use suggest_float instead.\n",
      "  'subsample': trial.suggest_uniform('subsample', 0.5, 1.0),\n",
      "[I 2025-02-05 05:13:34,370] Trial 2 finished with values: [0.7380429970348794, 0.4867256915614901] and parameters: {'n_estimators': 765, 'learning_rate': 0.033348825528848026, 'max_depth': 6, 'subsample': 0.8013399446617959, 'min_samples_split': 12, 'min_samples_leaf': 18}.\n",
      "/tmp/ipykernel_2152/3904728162.py:5: FutureWarning: suggest_loguniform has been deprecated in v3.0.0. This feature will be removed in v6.0.0. See https://github.com/optuna/optuna/releases/tag/v3.0.0. Use suggest_float(..., log=True) instead.\n",
      "  'learning_rate': trial.suggest_loguniform('learning_rate', 0.01, 0.3),\n",
      "/tmp/ipykernel_2152/3904728162.py:7: FutureWarning: suggest_uniform has been deprecated in v3.0.0. This feature will be removed in v6.0.0. See https://github.com/optuna/optuna/releases/tag/v3.0.0. Use suggest_float instead.\n",
      "  'subsample': trial.suggest_uniform('subsample', 0.5, 1.0),\n",
      "[I 2025-02-05 05:21:09,508] Trial 3 finished with values: [0.7316628548366741, 0.49121315749420763] and parameters: {'n_estimators': 977, 'learning_rate': 0.0158992067366177, 'max_depth': 10, 'subsample': 0.5724210758915568, 'min_samples_split': 17, 'min_samples_leaf': 7}.\n",
      "/tmp/ipykernel_2152/3904728162.py:5: FutureWarning: suggest_loguniform has been deprecated in v3.0.0. This feature will be removed in v6.0.0. See https://github.com/optuna/optuna/releases/tag/v3.0.0. Use suggest_float(..., log=True) instead.\n",
      "  'learning_rate': trial.suggest_loguniform('learning_rate', 0.01, 0.3),\n",
      "/tmp/ipykernel_2152/3904728162.py:7: FutureWarning: suggest_uniform has been deprecated in v3.0.0. This feature will be removed in v6.0.0. See https://github.com/optuna/optuna/releases/tag/v3.0.0. Use suggest_float instead.\n",
      "  'subsample': trial.suggest_uniform('subsample', 0.5, 1.0),\n",
      "[I 2025-02-05 05:26:54,751] Trial 4 finished with values: [0.722100563087509, 0.5011064793598025] and parameters: {'n_estimators': 628, 'learning_rate': 0.0666953802028168, 'max_depth': 9, 'subsample': 0.7974234043370672, 'min_samples_split': 15, 'min_samples_leaf': 11}.\n",
      "/tmp/ipykernel_2152/3904728162.py:5: FutureWarning: suggest_loguniform has been deprecated in v3.0.0. This feature will be removed in v6.0.0. See https://github.com/optuna/optuna/releases/tag/v3.0.0. Use suggest_float(..., log=True) instead.\n",
      "  'learning_rate': trial.suggest_loguniform('learning_rate', 0.01, 0.3),\n",
      "/tmp/ipykernel_2152/3904728162.py:7: FutureWarning: suggest_uniform has been deprecated in v3.0.0. This feature will be removed in v6.0.0. See https://github.com/optuna/optuna/releases/tag/v3.0.0. Use suggest_float instead.\n",
      "  'subsample': trial.suggest_uniform('subsample', 0.5, 1.0),\n",
      "[I 2025-02-05 05:33:09,163] Trial 5 finished with values: [0.7231984072740074, 0.50055295921118] and parameters: {'n_estimators': 987, 'learning_rate': 0.1247288103250931, 'max_depth': 6, 'subsample': 0.8103460995934322, 'min_samples_split': 7, 'min_samples_leaf': 8}.\n",
      "/tmp/ipykernel_2152/3904728162.py:5: FutureWarning: suggest_loguniform has been deprecated in v3.0.0. This feature will be removed in v6.0.0. See https://github.com/optuna/optuna/releases/tag/v3.0.0. Use suggest_float(..., log=True) instead.\n",
      "  'learning_rate': trial.suggest_loguniform('learning_rate', 0.01, 0.3),\n",
      "/tmp/ipykernel_2152/3904728162.py:7: FutureWarning: suggest_uniform has been deprecated in v3.0.0. This feature will be removed in v6.0.0. See https://github.com/optuna/optuna/releases/tag/v3.0.0. Use suggest_float instead.\n",
      "  'subsample': trial.suggest_uniform('subsample', 0.5, 1.0),\n",
      "[I 2025-02-05 05:39:56,575] Trial 6 finished with values: [0.7079302640926813, 0.5247212294404214] and parameters: {'n_estimators': 616, 'learning_rate': 0.08551609989238507, 'max_depth': 10, 'subsample': 0.8326354554004596, 'min_samples_split': 18, 'min_samples_leaf': 3}.\n",
      "/tmp/ipykernel_2152/3904728162.py:5: FutureWarning: suggest_loguniform has been deprecated in v3.0.0. This feature will be removed in v6.0.0. See https://github.com/optuna/optuna/releases/tag/v3.0.0. Use suggest_float(..., log=True) instead.\n",
      "  'learning_rate': trial.suggest_loguniform('learning_rate', 0.01, 0.3),\n",
      "/tmp/ipykernel_2152/3904728162.py:7: FutureWarning: suggest_uniform has been deprecated in v3.0.0. This feature will be removed in v6.0.0. See https://github.com/optuna/optuna/releases/tag/v3.0.0. Use suggest_float instead.\n",
      "  'subsample': trial.suggest_uniform('subsample', 0.5, 1.0),\n",
      "[I 2025-02-05 05:42:34,674] Trial 7 finished with values: [0.7367048051387035, 0.4878584409396475] and parameters: {'n_estimators': 406, 'learning_rate': 0.04234349690247216, 'max_depth': 8, 'subsample': 0.5949180720280309, 'min_samples_split': 20, 'min_samples_leaf': 20}.\n",
      "/tmp/ipykernel_2152/3904728162.py:5: FutureWarning: suggest_loguniform has been deprecated in v3.0.0. This feature will be removed in v6.0.0. See https://github.com/optuna/optuna/releases/tag/v3.0.0. Use suggest_float(..., log=True) instead.\n",
      "  'learning_rate': trial.suggest_loguniform('learning_rate', 0.01, 0.3),\n",
      "/tmp/ipykernel_2152/3904728162.py:7: FutureWarning: suggest_uniform has been deprecated in v3.0.0. This feature will be removed in v6.0.0. See https://github.com/optuna/optuna/releases/tag/v3.0.0. Use suggest_float instead.\n",
      "  'subsample': trial.suggest_uniform('subsample', 0.5, 1.0),\n",
      "[I 2025-02-05 05:43:37,055] Trial 8 finished with values: [0.7378608428702982, 0.4867279649859016] and parameters: {'n_estimators': 203, 'learning_rate': 0.18028864134956515, 'max_depth': 4, 'subsample': 0.9966577520522621, 'min_samples_split': 10, 'min_samples_leaf': 8}.\n",
      "/tmp/ipykernel_2152/3904728162.py:5: FutureWarning: suggest_loguniform has been deprecated in v3.0.0. This feature will be removed in v6.0.0. See https://github.com/optuna/optuna/releases/tag/v3.0.0. Use suggest_float(..., log=True) instead.\n",
      "  'learning_rate': trial.suggest_loguniform('learning_rate', 0.01, 0.3),\n",
      "/tmp/ipykernel_2152/3904728162.py:7: FutureWarning: suggest_uniform has been deprecated in v3.0.0. This feature will be removed in v6.0.0. See https://github.com/optuna/optuna/releases/tag/v3.0.0. Use suggest_float instead.\n",
      "  'subsample': trial.suggest_uniform('subsample', 0.5, 1.0),\n",
      "[I 2025-02-05 05:45:29,022] Trial 9 finished with values: [0.7374048712692753, 0.48715824599573443] and parameters: {'n_estimators': 206, 'learning_rate': 0.045025472414458055, 'max_depth': 8, 'subsample': 0.8396066915889886, 'min_samples_split': 12, 'min_samples_leaf': 1}.\n",
      "/tmp/ipykernel_2152/3904728162.py:5: FutureWarning: suggest_loguniform has been deprecated in v3.0.0. This feature will be removed in v6.0.0. See https://github.com/optuna/optuna/releases/tag/v3.0.0. Use suggest_float(..., log=True) instead.\n",
      "  'learning_rate': trial.suggest_loguniform('learning_rate', 0.01, 0.3),\n",
      "/tmp/ipykernel_2152/3904728162.py:7: FutureWarning: suggest_uniform has been deprecated in v3.0.0. This feature will be removed in v6.0.0. See https://github.com/optuna/optuna/releases/tag/v3.0.0. Use suggest_float instead.\n",
      "  'subsample': trial.suggest_uniform('subsample', 0.5, 1.0),\n",
      "[I 2025-02-05 05:46:42,332] Trial 10 finished with values: [0.7346876978701866, 0.4910090333556324] and parameters: {'n_estimators': 187, 'learning_rate': 0.016078468772818738, 'max_depth': 5, 'subsample': 0.979732086695178, 'min_samples_split': 11, 'min_samples_leaf': 17}.\n",
      "/tmp/ipykernel_2152/3904728162.py:5: FutureWarning: suggest_loguniform has been deprecated in v3.0.0. This feature will be removed in v6.0.0. See https://github.com/optuna/optuna/releases/tag/v3.0.0. Use suggest_float(..., log=True) instead.\n",
      "  'learning_rate': trial.suggest_loguniform('learning_rate', 0.01, 0.3),\n",
      "/tmp/ipykernel_2152/3904728162.py:7: FutureWarning: suggest_uniform has been deprecated in v3.0.0. This feature will be removed in v6.0.0. See https://github.com/optuna/optuna/releases/tag/v3.0.0. Use suggest_float instead.\n",
      "  'subsample': trial.suggest_uniform('subsample', 0.5, 1.0),\n",
      "[I 2025-02-05 05:51:14,778] Trial 11 finished with values: [0.7352888078116482, 0.4887391292836468] and parameters: {'n_estimators': 641, 'learning_rate': 0.04866648614124605, 'max_depth': 7, 'subsample': 0.7715363334870762, 'min_samples_split': 14, 'min_samples_leaf': 15}.\n",
      "/tmp/ipykernel_2152/3904728162.py:5: FutureWarning: suggest_loguniform has been deprecated in v3.0.0. This feature will be removed in v6.0.0. See https://github.com/optuna/optuna/releases/tag/v3.0.0. Use suggest_float(..., log=True) instead.\n",
      "  'learning_rate': trial.suggest_loguniform('learning_rate', 0.01, 0.3),\n",
      "/tmp/ipykernel_2152/3904728162.py:7: FutureWarning: suggest_uniform has been deprecated in v3.0.0. This feature will be removed in v6.0.0. See https://github.com/optuna/optuna/releases/tag/v3.0.0. Use suggest_float instead.\n",
      "  'subsample': trial.suggest_uniform('subsample', 0.5, 1.0),\n",
      "[I 2025-02-05 05:52:30,351] Trial 12 finished with values: [0.7389805977643669, 0.4862722601745465] and parameters: {'n_estimators': 290, 'learning_rate': 0.0709328082138412, 'max_depth': 4, 'subsample': 0.821858633651255, 'min_samples_split': 5, 'min_samples_leaf': 13}.\n",
      "/tmp/ipykernel_2152/3904728162.py:5: FutureWarning: suggest_loguniform has been deprecated in v3.0.0. This feature will be removed in v6.0.0. See https://github.com/optuna/optuna/releases/tag/v3.0.0. Use suggest_float(..., log=True) instead.\n",
      "  'learning_rate': trial.suggest_loguniform('learning_rate', 0.01, 0.3),\n",
      "/tmp/ipykernel_2152/3904728162.py:7: FutureWarning: suggest_uniform has been deprecated in v3.0.0. This feature will be removed in v6.0.0. See https://github.com/optuna/optuna/releases/tag/v3.0.0. Use suggest_float instead.\n",
      "  'subsample': trial.suggest_uniform('subsample', 0.5, 1.0),\n",
      "[I 2025-02-05 05:56:41,643] Trial 13 finished with values: [0.7351443435392833, 0.4886300463124792] and parameters: {'n_estimators': 446, 'learning_rate': 0.02537165030787287, 'max_depth': 10, 'subsample': 0.7031042186465457, 'min_samples_split': 5, 'min_samples_leaf': 13}.\n",
      "/tmp/ipykernel_2152/3904728162.py:5: FutureWarning: suggest_loguniform has been deprecated in v3.0.0. This feature will be removed in v6.0.0. See https://github.com/optuna/optuna/releases/tag/v3.0.0. Use suggest_float(..., log=True) instead.\n",
      "  'learning_rate': trial.suggest_loguniform('learning_rate', 0.01, 0.3),\n",
      "/tmp/ipykernel_2152/3904728162.py:7: FutureWarning: suggest_uniform has been deprecated in v3.0.0. This feature will be removed in v6.0.0. See https://github.com/optuna/optuna/releases/tag/v3.0.0. Use suggest_float instead.\n",
      "  'subsample': trial.suggest_uniform('subsample', 0.5, 1.0),\n",
      "[I 2025-02-05 05:57:14,906] Trial 14 finished with values: [0.734464721144429, 0.49068566877627323] and parameters: {'n_estimators': 132, 'learning_rate': 0.02906470723151609, 'max_depth': 4, 'subsample': 0.7720117723901232, 'min_samples_split': 12, 'min_samples_leaf': 9}.\n",
      "/tmp/ipykernel_2152/3904728162.py:5: FutureWarning: suggest_loguniform has been deprecated in v3.0.0. This feature will be removed in v6.0.0. See https://github.com/optuna/optuna/releases/tag/v3.0.0. Use suggest_float(..., log=True) instead.\n",
      "  'learning_rate': trial.suggest_loguniform('learning_rate', 0.01, 0.3),\n",
      "/tmp/ipykernel_2152/3904728162.py:7: FutureWarning: suggest_uniform has been deprecated in v3.0.0. This feature will be removed in v6.0.0. See https://github.com/optuna/optuna/releases/tag/v3.0.0. Use suggest_float instead.\n",
      "  'subsample': trial.suggest_uniform('subsample', 0.5, 1.0),\n",
      "[I 2025-02-05 06:01:57,934] Trial 15 finished with values: [0.721611443315159, 0.5007543355745915] and parameters: {'n_estimators': 563, 'learning_rate': 0.09938584235993014, 'max_depth': 8, 'subsample': 0.8052044905643366, 'min_samples_split': 5, 'min_samples_leaf': 12}.\n",
      "/tmp/ipykernel_2152/3904728162.py:5: FutureWarning: suggest_loguniform has been deprecated in v3.0.0. This feature will be removed in v6.0.0. See https://github.com/optuna/optuna/releases/tag/v3.0.0. Use suggest_float(..., log=True) instead.\n",
      "  'learning_rate': trial.suggest_loguniform('learning_rate', 0.01, 0.3),\n",
      "/tmp/ipykernel_2152/3904728162.py:7: FutureWarning: suggest_uniform has been deprecated in v3.0.0. This feature will be removed in v6.0.0. See https://github.com/optuna/optuna/releases/tag/v3.0.0. Use suggest_float instead.\n",
      "  'subsample': trial.suggest_uniform('subsample', 0.5, 1.0),\n",
      "[I 2025-02-05 06:08:47,335] Trial 16 finished with values: [0.7328200839211756, 0.49047729922990885] and parameters: {'n_estimators': 623, 'learning_rate': 0.03892890799963838, 'max_depth': 9, 'subsample': 0.9665470522519957, 'min_samples_split': 14, 'min_samples_leaf': 12}.\n",
      "/tmp/ipykernel_2152/3904728162.py:5: FutureWarning: suggest_loguniform has been deprecated in v3.0.0. This feature will be removed in v6.0.0. See https://github.com/optuna/optuna/releases/tag/v3.0.0. Use suggest_float(..., log=True) instead.\n",
      "  'learning_rate': trial.suggest_loguniform('learning_rate', 0.01, 0.3),\n",
      "/tmp/ipykernel_2152/3904728162.py:7: FutureWarning: suggest_uniform has been deprecated in v3.0.0. This feature will be removed in v6.0.0. See https://github.com/optuna/optuna/releases/tag/v3.0.0. Use suggest_float instead.\n",
      "  'subsample': trial.suggest_uniform('subsample', 0.5, 1.0),\n",
      "[I 2025-02-05 06:09:26,443] Trial 17 finished with values: [0.7367472604425478, 0.48799405045636196] and parameters: {'n_estimators': 351, 'learning_rate': 0.05577370268962274, 'max_depth': 2, 'subsample': 0.6679234797966727, 'min_samples_split': 9, 'min_samples_leaf': 12}.\n",
      "/tmp/ipykernel_2152/3904728162.py:5: FutureWarning: suggest_loguniform has been deprecated in v3.0.0. This feature will be removed in v6.0.0. See https://github.com/optuna/optuna/releases/tag/v3.0.0. Use suggest_float(..., log=True) instead.\n",
      "  'learning_rate': trial.suggest_loguniform('learning_rate', 0.01, 0.3),\n",
      "/tmp/ipykernel_2152/3904728162.py:7: FutureWarning: suggest_uniform has been deprecated in v3.0.0. This feature will be removed in v6.0.0. See https://github.com/optuna/optuna/releases/tag/v3.0.0. Use suggest_float instead.\n",
      "  'subsample': trial.suggest_uniform('subsample', 0.5, 1.0),\n",
      "[I 2025-02-05 06:12:32,237] Trial 18 finished with values: [0.7373395775404672, 0.48716838999552137] and parameters: {'n_estimators': 613, 'learning_rate': 0.05998528169576939, 'max_depth': 5, 'subsample': 0.7989663091832337, 'min_samples_split': 13, 'min_samples_leaf': 6}.\n",
      "/tmp/ipykernel_2152/3904728162.py:5: FutureWarning: suggest_loguniform has been deprecated in v3.0.0. This feature will be removed in v6.0.0. See https://github.com/optuna/optuna/releases/tag/v3.0.0. Use suggest_float(..., log=True) instead.\n",
      "  'learning_rate': trial.suggest_loguniform('learning_rate', 0.01, 0.3),\n",
      "/tmp/ipykernel_2152/3904728162.py:7: FutureWarning: suggest_uniform has been deprecated in v3.0.0. This feature will be removed in v6.0.0. See https://github.com/optuna/optuna/releases/tag/v3.0.0. Use suggest_float instead.\n",
      "  'subsample': trial.suggest_uniform('subsample', 0.5, 1.0),\n",
      "[I 2025-02-05 06:14:40,124] Trial 19 finished with values: [0.7361468515318832, 0.4880944850431272] and parameters: {'n_estimators': 193, 'learning_rate': 0.025683525804453156, 'max_depth': 10, 'subsample': 0.8402677842325772, 'min_samples_split': 16, 'min_samples_leaf': 5}.\n",
      "/tmp/ipykernel_2152/3904728162.py:5: FutureWarning: suggest_loguniform has been deprecated in v3.0.0. This feature will be removed in v6.0.0. See https://github.com/optuna/optuna/releases/tag/v3.0.0. Use suggest_float(..., log=True) instead.\n",
      "  'learning_rate': trial.suggest_loguniform('learning_rate', 0.01, 0.3),\n",
      "/tmp/ipykernel_2152/3904728162.py:7: FutureWarning: suggest_uniform has been deprecated in v3.0.0. This feature will be removed in v6.0.0. See https://github.com/optuna/optuna/releases/tag/v3.0.0. Use suggest_float instead.\n",
      "  'subsample': trial.suggest_uniform('subsample', 0.5, 1.0),\n",
      "[I 2025-02-05 06:16:26,006] Trial 20 finished with values: [0.7350765502661949, 0.48910068736704515] and parameters: {'n_estimators': 827, 'learning_rate': 0.1850899321979417, 'max_depth': 3, 'subsample': 0.507220074191026, 'min_samples_split': 14, 'min_samples_leaf': 8}.\n",
      "/tmp/ipykernel_2152/3904728162.py:5: FutureWarning: suggest_loguniform has been deprecated in v3.0.0. This feature will be removed in v6.0.0. See https://github.com/optuna/optuna/releases/tag/v3.0.0. Use suggest_float(..., log=True) instead.\n",
      "  'learning_rate': trial.suggest_loguniform('learning_rate', 0.01, 0.3),\n",
      "/tmp/ipykernel_2152/3904728162.py:7: FutureWarning: suggest_uniform has been deprecated in v3.0.0. This feature will be removed in v6.0.0. See https://github.com/optuna/optuna/releases/tag/v3.0.0. Use suggest_float instead.\n",
      "  'subsample': trial.suggest_uniform('subsample', 0.5, 1.0),\n",
      "[I 2025-02-05 06:17:24,378] Trial 21 finished with values: [0.737662184523409, 0.4872978071298704] and parameters: {'n_estimators': 282, 'learning_rate': 0.04818631629571501, 'max_depth': 3, 'subsample': 0.8990480994178056, 'min_samples_split': 7, 'min_samples_leaf': 11}.\n",
      "/tmp/ipykernel_2152/3904728162.py:5: FutureWarning: suggest_loguniform has been deprecated in v3.0.0. This feature will be removed in v6.0.0. See https://github.com/optuna/optuna/releases/tag/v3.0.0. Use suggest_float(..., log=True) instead.\n",
      "  'learning_rate': trial.suggest_loguniform('learning_rate', 0.01, 0.3),\n",
      "/tmp/ipykernel_2152/3904728162.py:7: FutureWarning: suggest_uniform has been deprecated in v3.0.0. This feature will be removed in v6.0.0. See https://github.com/optuna/optuna/releases/tag/v3.0.0. Use suggest_float instead.\n",
      "  'subsample': trial.suggest_uniform('subsample', 0.5, 1.0),\n",
      "[I 2025-02-05 06:20:20,237] Trial 22 finished with values: [0.7380063786612456, 0.48723376434803295] and parameters: {'n_estimators': 740, 'learning_rate': 0.011854279587286388, 'max_depth': 4, 'subsample': 0.7579540612367084, 'min_samples_split': 8, 'min_samples_leaf': 6}.\n",
      "/tmp/ipykernel_2152/3904728162.py:5: FutureWarning: suggest_loguniform has been deprecated in v3.0.0. This feature will be removed in v6.0.0. See https://github.com/optuna/optuna/releases/tag/v3.0.0. Use suggest_float(..., log=True) instead.\n",
      "  'learning_rate': trial.suggest_loguniform('learning_rate', 0.01, 0.3),\n",
      "/tmp/ipykernel_2152/3904728162.py:7: FutureWarning: suggest_uniform has been deprecated in v3.0.0. This feature will be removed in v6.0.0. See https://github.com/optuna/optuna/releases/tag/v3.0.0. Use suggest_float instead.\n",
      "  'subsample': trial.suggest_uniform('subsample', 0.5, 1.0),\n",
      "[I 2025-02-05 06:22:31,534] Trial 23 finished with values: [0.7337114505711275, 0.4896972789375868] and parameters: {'n_estimators': 276, 'learning_rate': 0.056868622088439506, 'max_depth': 9, 'subsample': 0.6641985490464495, 'min_samples_split': 7, 'min_samples_leaf': 12}.\n",
      "/tmp/ipykernel_2152/3904728162.py:5: FutureWarning: suggest_loguniform has been deprecated in v3.0.0. This feature will be removed in v6.0.0. See https://github.com/optuna/optuna/releases/tag/v3.0.0. Use suggest_float(..., log=True) instead.\n",
      "  'learning_rate': trial.suggest_loguniform('learning_rate', 0.01, 0.3),\n",
      "/tmp/ipykernel_2152/3904728162.py:7: FutureWarning: suggest_uniform has been deprecated in v3.0.0. This feature will be removed in v6.0.0. See https://github.com/optuna/optuna/releases/tag/v3.0.0. Use suggest_float instead.\n",
      "  'subsample': trial.suggest_uniform('subsample', 0.5, 1.0),\n",
      "[I 2025-02-05 06:24:51,455] Trial 24 finished with values: [0.7384729286372418, 0.4865377632119854] and parameters: {'n_estimators': 640, 'learning_rate': 0.055808178268539226, 'max_depth': 4, 'subsample': 0.6977264215369188, 'min_samples_split': 19, 'min_samples_leaf': 13}.\n",
      "/tmp/ipykernel_2152/3904728162.py:5: FutureWarning: suggest_loguniform has been deprecated in v3.0.0. This feature will be removed in v6.0.0. See https://github.com/optuna/optuna/releases/tag/v3.0.0. Use suggest_float(..., log=True) instead.\n",
      "  'learning_rate': trial.suggest_loguniform('learning_rate', 0.01, 0.3),\n",
      "/tmp/ipykernel_2152/3904728162.py:7: FutureWarning: suggest_uniform has been deprecated in v3.0.0. This feature will be removed in v6.0.0. See https://github.com/optuna/optuna/releases/tag/v3.0.0. Use suggest_float instead.\n",
      "  'subsample': trial.suggest_uniform('subsample', 0.5, 1.0),\n",
      "[I 2025-02-05 06:25:55,824] Trial 25 finished with values: [0.7387395759866154, 0.48653363057286303] and parameters: {'n_estimators': 178, 'learning_rate': 0.05166741347833917, 'max_depth': 7, 'subsample': 0.6408581976080653, 'min_samples_split': 15, 'min_samples_leaf': 11}.\n",
      "/tmp/ipykernel_2152/3904728162.py:5: FutureWarning: suggest_loguniform has been deprecated in v3.0.0. This feature will be removed in v6.0.0. See https://github.com/optuna/optuna/releases/tag/v3.0.0. Use suggest_float(..., log=True) instead.\n",
      "  'learning_rate': trial.suggest_loguniform('learning_rate', 0.01, 0.3),\n",
      "/tmp/ipykernel_2152/3904728162.py:7: FutureWarning: suggest_uniform has been deprecated in v3.0.0. This feature will be removed in v6.0.0. See https://github.com/optuna/optuna/releases/tag/v3.0.0. Use suggest_float instead.\n",
      "  'subsample': trial.suggest_uniform('subsample', 0.5, 1.0),\n",
      "[I 2025-02-05 06:26:50,237] Trial 26 finished with values: [0.736019557520945, 0.4886843707185193] and parameters: {'n_estimators': 578, 'learning_rate': 0.025605746319759395, 'max_depth': 2, 'subsample': 0.5336321990868351, 'min_samples_split': 12, 'min_samples_leaf': 18}.\n",
      "/tmp/ipykernel_2152/3904728162.py:5: FutureWarning: suggest_loguniform has been deprecated in v3.0.0. This feature will be removed in v6.0.0. See https://github.com/optuna/optuna/releases/tag/v3.0.0. Use suggest_float(..., log=True) instead.\n",
      "  'learning_rate': trial.suggest_loguniform('learning_rate', 0.01, 0.3),\n",
      "/tmp/ipykernel_2152/3904728162.py:7: FutureWarning: suggest_uniform has been deprecated in v3.0.0. This feature will be removed in v6.0.0. See https://github.com/optuna/optuna/releases/tag/v3.0.0. Use suggest_float instead.\n",
      "  'subsample': trial.suggest_uniform('subsample', 0.5, 1.0),\n",
      "[I 2025-02-05 06:29:17,400] Trial 27 finished with values: [0.7391631453849794, 0.48669393874453504] and parameters: {'n_estimators': 397, 'learning_rate': 0.012632650612676068, 'max_depth': 7, 'subsample': 0.6506781530488497, 'min_samples_split': 12, 'min_samples_leaf': 17}.\n",
      "/tmp/ipykernel_2152/3904728162.py:5: FutureWarning: suggest_loguniform has been deprecated in v3.0.0. This feature will be removed in v6.0.0. See https://github.com/optuna/optuna/releases/tag/v3.0.0. Use suggest_float(..., log=True) instead.\n",
      "  'learning_rate': trial.suggest_loguniform('learning_rate', 0.01, 0.3),\n",
      "/tmp/ipykernel_2152/3904728162.py:7: FutureWarning: suggest_uniform has been deprecated in v3.0.0. This feature will be removed in v6.0.0. See https://github.com/optuna/optuna/releases/tag/v3.0.0. Use suggest_float instead.\n",
      "  'subsample': trial.suggest_uniform('subsample', 0.5, 1.0),\n",
      "[I 2025-02-05 06:30:12,484] Trial 28 finished with values: [0.7340003112097402, 0.489657872114654] and parameters: {'n_estimators': 847, 'learning_rate': 0.09427783103437537, 'max_depth': 1, 'subsample': 0.7214722084388777, 'min_samples_split': 7, 'min_samples_leaf': 8}.\n",
      "/tmp/ipykernel_2152/3904728162.py:5: FutureWarning: suggest_loguniform has been deprecated in v3.0.0. This feature will be removed in v6.0.0. See https://github.com/optuna/optuna/releases/tag/v3.0.0. Use suggest_float(..., log=True) instead.\n",
      "  'learning_rate': trial.suggest_loguniform('learning_rate', 0.01, 0.3),\n",
      "/tmp/ipykernel_2152/3904728162.py:7: FutureWarning: suggest_uniform has been deprecated in v3.0.0. This feature will be removed in v6.0.0. See https://github.com/optuna/optuna/releases/tag/v3.0.0. Use suggest_float instead.\n",
      "  'subsample': trial.suggest_uniform('subsample', 0.5, 1.0),\n",
      "[I 2025-02-05 06:36:22,965] Trial 29 finished with values: [0.7382672739630551, 0.48673380149423046] and parameters: {'n_estimators': 690, 'learning_rate': 0.013953139053005124, 'max_depth': 8, 'subsample': 0.8771274205319103, 'min_samples_split': 13, 'min_samples_leaf': 15}.\n",
      "/tmp/ipykernel_2152/3904728162.py:5: FutureWarning: suggest_loguniform has been deprecated in v3.0.0. This feature will be removed in v6.0.0. See https://github.com/optuna/optuna/releases/tag/v3.0.0. Use suggest_float(..., log=True) instead.\n",
      "  'learning_rate': trial.suggest_loguniform('learning_rate', 0.01, 0.3),\n",
      "/tmp/ipykernel_2152/3904728162.py:7: FutureWarning: suggest_uniform has been deprecated in v3.0.0. This feature will be removed in v6.0.0. See https://github.com/optuna/optuna/releases/tag/v3.0.0. Use suggest_float instead.\n",
      "  'subsample': trial.suggest_uniform('subsample', 0.5, 1.0),\n",
      "[I 2025-02-05 06:36:57,823] Trial 30 finished with values: [0.7372028206123905, 0.4878110348783359] and parameters: {'n_estimators': 208, 'learning_rate': 0.050844338091781544, 'max_depth': 3, 'subsample': 0.6803814689372213, 'min_samples_split': 5, 'min_samples_leaf': 10}.\n",
      "/tmp/ipykernel_2152/3904728162.py:5: FutureWarning: suggest_loguniform has been deprecated in v3.0.0. This feature will be removed in v6.0.0. See https://github.com/optuna/optuna/releases/tag/v3.0.0. Use suggest_float(..., log=True) instead.\n",
      "  'learning_rate': trial.suggest_loguniform('learning_rate', 0.01, 0.3),\n",
      "/tmp/ipykernel_2152/3904728162.py:7: FutureWarning: suggest_uniform has been deprecated in v3.0.0. This feature will be removed in v6.0.0. See https://github.com/optuna/optuna/releases/tag/v3.0.0. Use suggest_float instead.\n",
      "  'subsample': trial.suggest_uniform('subsample', 0.5, 1.0),\n",
      "[I 2025-02-05 06:37:59,466] Trial 31 finished with values: [0.7383841174222989, 0.48649459697570924] and parameters: {'n_estimators': 400, 'learning_rate': 0.16214006434881997, 'max_depth': 2, 'subsample': 0.9976999940914967, 'min_samples_split': 11, 'min_samples_leaf': 18}.\n",
      "/tmp/ipykernel_2152/3904728162.py:5: FutureWarning: suggest_loguniform has been deprecated in v3.0.0. This feature will be removed in v6.0.0. See https://github.com/optuna/optuna/releases/tag/v3.0.0. Use suggest_float(..., log=True) instead.\n",
      "  'learning_rate': trial.suggest_loguniform('learning_rate', 0.01, 0.3),\n",
      "/tmp/ipykernel_2152/3904728162.py:7: FutureWarning: suggest_uniform has been deprecated in v3.0.0. This feature will be removed in v6.0.0. See https://github.com/optuna/optuna/releases/tag/v3.0.0. Use suggest_float instead.\n",
      "  'subsample': trial.suggest_uniform('subsample', 0.5, 1.0),\n",
      "[I 2025-02-05 06:39:54,866] Trial 32 finished with values: [0.7379046363240965, 0.4873318626155325] and parameters: {'n_estimators': 871, 'learning_rate': 0.014995751914993471, 'max_depth': 3, 'subsample': 0.5052165734525471, 'min_samples_split': 3, 'min_samples_leaf': 11}.\n",
      "/tmp/ipykernel_2152/3904728162.py:5: FutureWarning: suggest_loguniform has been deprecated in v3.0.0. This feature will be removed in v6.0.0. See https://github.com/optuna/optuna/releases/tag/v3.0.0. Use suggest_float(..., log=True) instead.\n",
      "  'learning_rate': trial.suggest_loguniform('learning_rate', 0.01, 0.3),\n",
      "/tmp/ipykernel_2152/3904728162.py:7: FutureWarning: suggest_uniform has been deprecated in v3.0.0. This feature will be removed in v6.0.0. See https://github.com/optuna/optuna/releases/tag/v3.0.0. Use suggest_float instead.\n",
      "  'subsample': trial.suggest_uniform('subsample', 0.5, 1.0),\n",
      "[I 2025-02-05 06:40:54,733] Trial 33 finished with values: [0.7383168993539672, 0.48661423465955417] and parameters: {'n_estimators': 510, 'learning_rate': 0.15836736499459056, 'max_depth': 2, 'subsample': 0.7137674998773889, 'min_samples_split': 4, 'min_samples_leaf': 19}.\n",
      "/tmp/ipykernel_2152/3904728162.py:5: FutureWarning: suggest_loguniform has been deprecated in v3.0.0. This feature will be removed in v6.0.0. See https://github.com/optuna/optuna/releases/tag/v3.0.0. Use suggest_float(..., log=True) instead.\n",
      "  'learning_rate': trial.suggest_loguniform('learning_rate', 0.01, 0.3),\n",
      "/tmp/ipykernel_2152/3904728162.py:7: FutureWarning: suggest_uniform has been deprecated in v3.0.0. This feature will be removed in v6.0.0. See https://github.com/optuna/optuna/releases/tag/v3.0.0. Use suggest_float instead.\n",
      "  'subsample': trial.suggest_uniform('subsample', 0.5, 1.0),\n",
      "[I 2025-02-05 06:43:39,655] Trial 34 finished with values: [0.7390804137647538, 0.48639097342043897] and parameters: {'n_estimators': 625, 'learning_rate': 0.017158810785078856, 'max_depth': 6, 'subsample': 0.5342409167839189, 'min_samples_split': 10, 'min_samples_leaf': 4}.\n",
      "/tmp/ipykernel_2152/3904728162.py:5: FutureWarning: suggest_loguniform has been deprecated in v3.0.0. This feature will be removed in v6.0.0. See https://github.com/optuna/optuna/releases/tag/v3.0.0. Use suggest_float(..., log=True) instead.\n",
      "  'learning_rate': trial.suggest_loguniform('learning_rate', 0.01, 0.3),\n",
      "/tmp/ipykernel_2152/3904728162.py:7: FutureWarning: suggest_uniform has been deprecated in v3.0.0. This feature will be removed in v6.0.0. See https://github.com/optuna/optuna/releases/tag/v3.0.0. Use suggest_float instead.\n",
      "  'subsample': trial.suggest_uniform('subsample', 0.5, 1.0),\n",
      "[I 2025-02-05 06:47:49,814] Trial 35 finished with values: [0.7057328960419061, 0.5308767404801972] and parameters: {'n_estimators': 734, 'learning_rate': 0.1540773772493154, 'max_depth': 8, 'subsample': 0.5041291800680536, 'min_samples_split': 11, 'min_samples_leaf': 12}.\n",
      "/tmp/ipykernel_2152/3904728162.py:5: FutureWarning: suggest_loguniform has been deprecated in v3.0.0. This feature will be removed in v6.0.0. See https://github.com/optuna/optuna/releases/tag/v3.0.0. Use suggest_float(..., log=True) instead.\n",
      "  'learning_rate': trial.suggest_loguniform('learning_rate', 0.01, 0.3),\n",
      "/tmp/ipykernel_2152/3904728162.py:7: FutureWarning: suggest_uniform has been deprecated in v3.0.0. This feature will be removed in v6.0.0. See https://github.com/optuna/optuna/releases/tag/v3.0.0. Use suggest_float instead.\n",
      "  'subsample': trial.suggest_uniform('subsample', 0.5, 1.0),\n",
      "[I 2025-02-05 06:49:51,668] Trial 36 finished with values: [0.7333535453893574, 0.49008890725841325] and parameters: {'n_estimators': 304, 'learning_rate': 0.07361046345233456, 'max_depth': 8, 'subsample': 0.6363493209213112, 'min_samples_split': 18, 'min_samples_leaf': 15}.\n",
      "/tmp/ipykernel_2152/3904728162.py:5: FutureWarning: suggest_loguniform has been deprecated in v3.0.0. This feature will be removed in v6.0.0. See https://github.com/optuna/optuna/releases/tag/v3.0.0. Use suggest_float(..., log=True) instead.\n",
      "  'learning_rate': trial.suggest_loguniform('learning_rate', 0.01, 0.3),\n",
      "/tmp/ipykernel_2152/3904728162.py:7: FutureWarning: suggest_uniform has been deprecated in v3.0.0. This feature will be removed in v6.0.0. See https://github.com/optuna/optuna/releases/tag/v3.0.0. Use suggest_float instead.\n",
      "  'subsample': trial.suggest_uniform('subsample', 0.5, 1.0),\n",
      "[I 2025-02-05 06:50:16,258] Trial 37 finished with values: [0.7325491245333677, 0.490964121110721] and parameters: {'n_estimators': 401, 'learning_rate': 0.10636720610458315, 'max_depth': 1, 'subsample': 0.6529337059961536, 'min_samples_split': 20, 'min_samples_leaf': 7}.\n",
      "/tmp/ipykernel_2152/3904728162.py:5: FutureWarning: suggest_loguniform has been deprecated in v3.0.0. This feature will be removed in v6.0.0. See https://github.com/optuna/optuna/releases/tag/v3.0.0. Use suggest_float(..., log=True) instead.\n",
      "  'learning_rate': trial.suggest_loguniform('learning_rate', 0.01, 0.3),\n",
      "/tmp/ipykernel_2152/3904728162.py:7: FutureWarning: suggest_uniform has been deprecated in v3.0.0. This feature will be removed in v6.0.0. See https://github.com/optuna/optuna/releases/tag/v3.0.0. Use suggest_float instead.\n",
      "  'subsample': trial.suggest_uniform('subsample', 0.5, 1.0),\n",
      "[I 2025-02-05 06:56:32,997] Trial 38 finished with values: [0.7168496626673758, 0.5070983469459485] and parameters: {'n_estimators': 694, 'learning_rate': 0.05007951504391223, 'max_depth': 10, 'subsample': 0.6753374091314499, 'min_samples_split': 5, 'min_samples_leaf': 7}.\n",
      "/tmp/ipykernel_2152/3904728162.py:5: FutureWarning: suggest_loguniform has been deprecated in v3.0.0. This feature will be removed in v6.0.0. See https://github.com/optuna/optuna/releases/tag/v3.0.0. Use suggest_float(..., log=True) instead.\n",
      "  'learning_rate': trial.suggest_loguniform('learning_rate', 0.01, 0.3),\n",
      "/tmp/ipykernel_2152/3904728162.py:7: FutureWarning: suggest_uniform has been deprecated in v3.0.0. This feature will be removed in v6.0.0. See https://github.com/optuna/optuna/releases/tag/v3.0.0. Use suggest_float instead.\n",
      "  'subsample': trial.suggest_uniform('subsample', 0.5, 1.0),\n",
      "[I 2025-02-05 07:06:11,309] Trial 39 finished with values: [0.6800839587237062, 0.7261243451305724] and parameters: {'n_estimators': 929, 'learning_rate': 0.2900832244004298, 'max_depth': 9, 'subsample': 0.8637792503938213, 'min_samples_split': 5, 'min_samples_leaf': 6}.\n",
      "/tmp/ipykernel_2152/3904728162.py:5: FutureWarning: suggest_loguniform has been deprecated in v3.0.0. This feature will be removed in v6.0.0. See https://github.com/optuna/optuna/releases/tag/v3.0.0. Use suggest_float(..., log=True) instead.\n",
      "  'learning_rate': trial.suggest_loguniform('learning_rate', 0.01, 0.3),\n",
      "/tmp/ipykernel_2152/3904728162.py:7: FutureWarning: suggest_uniform has been deprecated in v3.0.0. This feature will be removed in v6.0.0. See https://github.com/optuna/optuna/releases/tag/v3.0.0. Use suggest_float instead.\n",
      "  'subsample': trial.suggest_uniform('subsample', 0.5, 1.0),\n",
      "[I 2025-02-05 07:10:12,477] Trial 40 finished with values: [0.7348487681840348, 0.4888878693912724] and parameters: {'n_estimators': 337, 'learning_rate': 0.034370173109460084, 'max_depth': 10, 'subsample': 0.9532808504115197, 'min_samples_split': 17, 'min_samples_leaf': 17}.\n",
      "/tmp/ipykernel_2152/3904728162.py:5: FutureWarning: suggest_loguniform has been deprecated in v3.0.0. This feature will be removed in v6.0.0. See https://github.com/optuna/optuna/releases/tag/v3.0.0. Use suggest_float(..., log=True) instead.\n",
      "  'learning_rate': trial.suggest_loguniform('learning_rate', 0.01, 0.3),\n",
      "/tmp/ipykernel_2152/3904728162.py:7: FutureWarning: suggest_uniform has been deprecated in v3.0.0. This feature will be removed in v6.0.0. See https://github.com/optuna/optuna/releases/tag/v3.0.0. Use suggest_float instead.\n",
      "  'subsample': trial.suggest_uniform('subsample', 0.5, 1.0),\n",
      "[I 2025-02-05 07:13:31,005] Trial 41 finished with values: [0.7345963092186528, 0.4892275620242377] and parameters: {'n_estimators': 525, 'learning_rate': 0.04358632084218388, 'max_depth': 8, 'subsample': 0.5957312802119544, 'min_samples_split': 12, 'min_samples_leaf': 14}.\n",
      "/tmp/ipykernel_2152/3904728162.py:5: FutureWarning: suggest_loguniform has been deprecated in v3.0.0. This feature will be removed in v6.0.0. See https://github.com/optuna/optuna/releases/tag/v3.0.0. Use suggest_float(..., log=True) instead.\n",
      "  'learning_rate': trial.suggest_loguniform('learning_rate', 0.01, 0.3),\n",
      "/tmp/ipykernel_2152/3904728162.py:7: FutureWarning: suggest_uniform has been deprecated in v3.0.0. This feature will be removed in v6.0.0. See https://github.com/optuna/optuna/releases/tag/v3.0.0. Use suggest_float instead.\n",
      "  'subsample': trial.suggest_uniform('subsample', 0.5, 1.0),\n",
      "[I 2025-02-05 07:16:14,604] Trial 42 finished with values: [0.7316927495060979, 0.49160050548431683] and parameters: {'n_estimators': 778, 'learning_rate': 0.11411179311486645, 'max_depth': 5, 'subsample': 0.5135766793764103, 'min_samples_split': 5, 'min_samples_leaf': 17}.\n",
      "/tmp/ipykernel_2152/3904728162.py:5: FutureWarning: suggest_loguniform has been deprecated in v3.0.0. This feature will be removed in v6.0.0. See https://github.com/optuna/optuna/releases/tag/v3.0.0. Use suggest_float(..., log=True) instead.\n",
      "  'learning_rate': trial.suggest_loguniform('learning_rate', 0.01, 0.3),\n",
      "/tmp/ipykernel_2152/3904728162.py:7: FutureWarning: suggest_uniform has been deprecated in v3.0.0. This feature will be removed in v6.0.0. See https://github.com/optuna/optuna/releases/tag/v3.0.0. Use suggest_float instead.\n",
      "  'subsample': trial.suggest_uniform('subsample', 0.5, 1.0),\n",
      "[I 2025-02-05 07:17:15,461] Trial 43 finished with values: [0.733749701687429, 0.4897355141830856] and parameters: {'n_estimators': 796, 'learning_rate': 0.10298735200985333, 'max_depth': 1, 'subsample': 0.9175291431879463, 'min_samples_split': 14, 'min_samples_leaf': 11}.\n",
      "/tmp/ipykernel_2152/3904728162.py:5: FutureWarning: suggest_loguniform has been deprecated in v3.0.0. This feature will be removed in v6.0.0. See https://github.com/optuna/optuna/releases/tag/v3.0.0. Use suggest_float(..., log=True) instead.\n",
      "  'learning_rate': trial.suggest_loguniform('learning_rate', 0.01, 0.3),\n",
      "/tmp/ipykernel_2152/3904728162.py:7: FutureWarning: suggest_uniform has been deprecated in v3.0.0. This feature will be removed in v6.0.0. See https://github.com/optuna/optuna/releases/tag/v3.0.0. Use suggest_float instead.\n",
      "  'subsample': trial.suggest_uniform('subsample', 0.5, 1.0),\n",
      "[I 2025-02-05 07:19:44,187] Trial 44 finished with values: [0.7347249244030158, 0.48904854249692986] and parameters: {'n_estimators': 452, 'learning_rate': 0.13493680602287833, 'max_depth': 5, 'subsample': 0.879072256940957, 'min_samples_split': 17, 'min_samples_leaf': 8}.\n",
      "/tmp/ipykernel_2152/3904728162.py:5: FutureWarning: suggest_loguniform has been deprecated in v3.0.0. This feature will be removed in v6.0.0. See https://github.com/optuna/optuna/releases/tag/v3.0.0. Use suggest_float(..., log=True) instead.\n",
      "  'learning_rate': trial.suggest_loguniform('learning_rate', 0.01, 0.3),\n",
      "/tmp/ipykernel_2152/3904728162.py:7: FutureWarning: suggest_uniform has been deprecated in v3.0.0. This feature will be removed in v6.0.0. See https://github.com/optuna/optuna/releases/tag/v3.0.0. Use suggest_float instead.\n",
      "  'subsample': trial.suggest_uniform('subsample', 0.5, 1.0),\n",
      "[I 2025-02-05 07:19:55,951] Trial 45 finished with values: [0.7232315274839923, 0.5010467515459963] and parameters: {'n_estimators': 175, 'learning_rate': 0.045367535996153216, 'max_depth': 1, 'subsample': 0.7341881318889046, 'min_samples_split': 11, 'min_samples_leaf': 10}.\n",
      "/tmp/ipykernel_2152/3904728162.py:5: FutureWarning: suggest_loguniform has been deprecated in v3.0.0. This feature will be removed in v6.0.0. See https://github.com/optuna/optuna/releases/tag/v3.0.0. Use suggest_float(..., log=True) instead.\n",
      "  'learning_rate': trial.suggest_loguniform('learning_rate', 0.01, 0.3),\n",
      "/tmp/ipykernel_2152/3904728162.py:7: FutureWarning: suggest_uniform has been deprecated in v3.0.0. This feature will be removed in v6.0.0. See https://github.com/optuna/optuna/releases/tag/v3.0.0. Use suggest_float instead.\n",
      "  'subsample': trial.suggest_uniform('subsample', 0.5, 1.0),\n",
      "[I 2025-02-05 07:20:43,310] Trial 46 finished with values: [0.7377779554654508, 0.48694297567080186] and parameters: {'n_estimators': 112, 'learning_rate': 0.12387562563329271, 'max_depth': 6, 'subsample': 0.928932429513952, 'min_samples_split': 17, 'min_samples_leaf': 4}.\n",
      "/tmp/ipykernel_2152/3904728162.py:5: FutureWarning: suggest_loguniform has been deprecated in v3.0.0. This feature will be removed in v6.0.0. See https://github.com/optuna/optuna/releases/tag/v3.0.0. Use suggest_float(..., log=True) instead.\n",
      "  'learning_rate': trial.suggest_loguniform('learning_rate', 0.01, 0.3),\n",
      "/tmp/ipykernel_2152/3904728162.py:7: FutureWarning: suggest_uniform has been deprecated in v3.0.0. This feature will be removed in v6.0.0. See https://github.com/optuna/optuna/releases/tag/v3.0.0. Use suggest_float instead.\n",
      "  'subsample': trial.suggest_uniform('subsample', 0.5, 1.0),\n",
      "[I 2025-02-05 07:21:40,513] Trial 47 finished with values: [0.7376182442725634, 0.4870349913217846] and parameters: {'n_estimators': 483, 'learning_rate': 0.26175996572490157, 'max_depth': 2, 'subsample': 0.713165470784436, 'min_samples_split': 5, 'min_samples_leaf': 11}.\n",
      "/tmp/ipykernel_2152/3904728162.py:5: FutureWarning: suggest_loguniform has been deprecated in v3.0.0. This feature will be removed in v6.0.0. See https://github.com/optuna/optuna/releases/tag/v3.0.0. Use suggest_float(..., log=True) instead.\n",
      "  'learning_rate': trial.suggest_loguniform('learning_rate', 0.01, 0.3),\n",
      "/tmp/ipykernel_2152/3904728162.py:7: FutureWarning: suggest_uniform has been deprecated in v3.0.0. This feature will be removed in v6.0.0. See https://github.com/optuna/optuna/releases/tag/v3.0.0. Use suggest_float instead.\n",
      "  'subsample': trial.suggest_uniform('subsample', 0.5, 1.0),\n",
      "[I 2025-02-05 07:27:23,714] Trial 48 finished with values: [0.7308024753457356, 0.492093628661208] and parameters: {'n_estimators': 833, 'learning_rate': 0.08283345392285853, 'max_depth': 6, 'subsample': 0.9210987023281948, 'min_samples_split': 14, 'min_samples_leaf': 2}.\n",
      "/tmp/ipykernel_2152/3904728162.py:5: FutureWarning: suggest_loguniform has been deprecated in v3.0.0. This feature will be removed in v6.0.0. See https://github.com/optuna/optuna/releases/tag/v3.0.0. Use suggest_float(..., log=True) instead.\n",
      "  'learning_rate': trial.suggest_loguniform('learning_rate', 0.01, 0.3),\n",
      "/tmp/ipykernel_2152/3904728162.py:7: FutureWarning: suggest_uniform has been deprecated in v3.0.0. This feature will be removed in v6.0.0. See https://github.com/optuna/optuna/releases/tag/v3.0.0. Use suggest_float instead.\n",
      "  'subsample': trial.suggest_uniform('subsample', 0.5, 1.0),\n",
      "[I 2025-02-05 07:28:13,084] Trial 49 finished with values: [0.7389088659364882, 0.48634441648584414] and parameters: {'n_estimators': 269, 'learning_rate': 0.11352845415854046, 'max_depth': 3, 'subsample': 0.7744550026596285, 'min_samples_split': 14, 'min_samples_leaf': 18}.\n"
     ]
    },
    {
     "name": "stdout",
     "output_type": "stream",
     "text": [
      "Pareto Front (ROC-AUC, Log Loss) 최적의 트라이얼들:\n",
      "Trial values (ROC-AUC, Log Loss): [0.7389805977643669, 0.4862722601745465] | Params: {'n_estimators': 290, 'learning_rate': 0.0709328082138412, 'max_depth': 4, 'subsample': 0.821858633651255, 'min_samples_split': 5, 'min_samples_leaf': 13}\n",
      "Trial values (ROC-AUC, Log Loss): [0.7391631453849794, 0.48669393874453504] | Params: {'n_estimators': 397, 'learning_rate': 0.012632650612676068, 'max_depth': 7, 'subsample': 0.6506781530488497, 'min_samples_split': 12, 'min_samples_leaf': 17}\n",
      "Trial values (ROC-AUC, Log Loss): [0.7390804137647538, 0.48639097342043897] | Params: {'n_estimators': 625, 'learning_rate': 0.017158810785078856, 'max_depth': 6, 'subsample': 0.5342409167839189, 'min_samples_split': 10, 'min_samples_leaf': 4}\n"
     ]
    }
   ],
   "source": [
    "# 3. 다중 목표 최적화를 위한 Optuna Study 생성 및 최적화 수행\n",
    "study = optuna.create_study(directions=[\"maximize\", \"minimize\"])\n",
    "study.optimize(objective, n_trials=50)\n",
    "\n",
    "# 4. Pareto Front (최적의 트라이얼 목록) 출력\n",
    "print(\"Pareto Front (ROC-AUC, Log Loss) 최적의 트라이얼들:\")\n",
    "for trial in study.best_trials:\n",
    "    print(\"Trial values (ROC-AUC, Log Loss): {} | Params: {}\".format(trial.values, trial.params))"
   ]
  },
  {
   "cell_type": "code",
   "execution_count": 19,
   "id": "f5767fba",
   "metadata": {},
   "outputs": [
    {
     "name": "stdout",
     "output_type": "stream",
     "text": [
      "\n",
      "최종 모델 평가:\n",
      "ROC-AUC: 0.7390\n",
      "Log Loss: 0.4863\n"
     ]
    }
   ],
   "source": [
    "# 5. 최적의 파라미터를 사용해 최종 모델 구축 (전체 데이터로 재학습 가능)\n",
    "best_params = study.best_trials[0].params\n",
    "\n",
    "final_model = GradientBoostingClassifier(**best_params, random_state=42)\n",
    "    \n",
    "    # 모델 학습\n",
    "final_model.fit(X_train, y_train)\n",
    "# 최종 모델의 검증 예측 및 평가 (예시)\n",
    "pred_probas_final = final_model.predict_proba(X_valid)[:, 1]\n",
    "final_auc = roc_auc_score(y_valid, pred_probas_final)\n",
    "final_loss = log_loss(y_valid, pred_probas_final)\n",
    "print(\"\\n최종 모델 평가:\")\n",
    "print(\"ROC-AUC: {:.4f}\".format(final_auc))\n",
    "print(\"Log Loss: {:.4f}\".format(final_loss))"
   ]
  },
  {
   "cell_type": "code",
   "execution_count": 20,
   "id": "c95efa41",
   "metadata": {},
   "outputs": [
    {
     "name": "stdout",
     "output_type": "stream",
     "text": [
      "예측 확률: [0.00362349 0.00309804 0.14509176 ... 0.44894606 0.22129401 0.00267728]\n"
     ]
    }
   ],
   "source": [
    "pred_probas = final_model.predict_proba(test_encoded)[:, 1]\n",
    "print(\"예측 확률:\", pred_probas)"
   ]
  },
  {
   "cell_type": "code",
   "execution_count": 21,
   "id": "ce51f809",
   "metadata": {},
   "outputs": [],
   "source": [
    "sample_submission = pd.read_csv('./sample_submission.csv')\n",
    "sample_submission['probability'] = pred_probas\n",
    "sample_submission.to_csv('./submit/submit_11.csv', index=False)"
   ]
  },
  {
   "cell_type": "markdown",
   "id": "c06903f3",
   "metadata": {},
   "source": [
    "## lightGBM Regressor test"
   ]
  },
  {
   "cell_type": "code",
   "execution_count": 9,
   "id": "2eb0f551",
   "metadata": {},
   "outputs": [],
   "source": [
    "def objective(trial):\n",
    "    params = {\n",
    "            'n_estimators': trial.suggest_int('n_estimators', 100, 1000),\n",
    "            'learning_rate': trial.suggest_loguniform('learning_rate', 0.01, 0.3),\n",
    "            'max_depth': trial.suggest_int('max_depth', 3, 15),\n",
    "            'num_leaves': trial.suggest_int('num_leaves', 20, 150),\n",
    "            'min_child_samples': trial.suggest_int('min_child_samples', 5, 100),\n",
    "            'subsample': trial.suggest_uniform('subsample', 0.5, 1.0),\n",
    "            'colsample_bytree': trial.suggest_uniform('colsample_bytree', 0.5, 1.0),\n",
    "            'reg_alpha': trial.suggest_loguniform('reg_alpha', 1e-3, 10.0),\n",
    "            'reg_lambda': trial.suggest_loguniform('reg_lambda', 1e-3, 10.0),\n",
    "        }\n",
    "        \n",
    "    # LightGBM Regressor 모델 생성\n",
    "    model = LGBMRegressor(\n",
    "        **params,\n",
    "        random_state=42,\n",
    "        n_jobs=-1\n",
    "    )\n",
    "    # 모델 학습\n",
    "    model.fit(\n",
    "        X_train, y_train,\n",
    "        categorical_feature=categorical_columns\n",
    "    )\n",
    "    \n",
    "    # 검증 데이터 예측\n",
    "    y_pred = model.predict(X_valid)\n",
    "    \n",
    "    # RMSE 계산 (MSE의 제곱근)\n",
    "    r2 = r2_score(y_valid, y_pred)\n",
    "\n",
    "    return r2  # RMSE 값을 최소화하는 방향으로 최적화"
   ]
  },
  {
   "cell_type": "code",
   "execution_count": null,
   "id": "26eb44ff",
   "metadata": {},
   "outputs": [],
   "source": [
    "# 3. 다중 목표 최적화를 위한 Optuna Study 생성 및 최적화 수행\n",
    "study = optuna.create_study(direction='maximize')\n",
    "study.optimize(objective, n_trials=50)\n",
    "\n",
    "# 4. 최적의 하이퍼파라미터 및 R² 스코어 출력\n",
    "print(\"Best trial:\")\n",
    "trial = study.best_trial\n",
    "print(\"  R² Score: {:.4f}\".format(trial.value))\n",
    "print(\"  Best hyperparameters:\")\n",
    "for key, value in trial.params.items():\n",
    "    print(\"    {}: {}\".format(key, value))"
   ]
  },
  {
   "cell_type": "code",
   "execution_count": 12,
   "id": "26918431",
   "metadata": {},
   "outputs": [
    {
     "data": {
      "text/plain": [
       "{'n_estimators': 483,\n",
       " 'learning_rate': 0.019050943579556338,\n",
       " 'max_depth': 10,\n",
       " 'num_leaves': 32,\n",
       " 'min_child_samples': 59,\n",
       " 'subsample': 0.6535773088799172,\n",
       " 'colsample_bytree': 0.7581013800662908,\n",
       " 'reg_alpha': 5.8445306660077625,\n",
       " 'reg_lambda': 0.18197863515493562}"
      ]
     },
     "execution_count": 12,
     "metadata": {},
     "output_type": "execute_result"
    }
   ],
   "source": [
    "best_params = study.best_trials[0].params\n",
    "best_params"
   ]
  },
  {
   "cell_type": "code",
   "execution_count": 16,
   "id": "96339c50",
   "metadata": {},
   "outputs": [
    {
     "name": "stdout",
     "output_type": "stream",
     "text": [
      "[LightGBM] [Warning] Found whitespace in feature_names, replace with underlines\n",
      "[LightGBM] [Info] Auto-choosing row-wise multi-threading, the overhead of testing was 0.011899 seconds.\n",
      "You can set `force_row_wise=true` to remove the overhead.\n",
      "And if memory is not enough, you can set `force_col_wise=true`.\n",
      "[LightGBM] [Info] Total Bins 725\n",
      "[LightGBM] [Info] Number of data points in the train set: 205080, number of used features: 59\n",
      "[LightGBM] [Info] Start training from score 0.258933\n",
      "\n",
      "최종 모델 평가:\n",
      "  R² Score: 0.1328\n"
     ]
    }
   ],
   "source": [
    "# 5. 최적의 파라미터를 사용해 최종 모델 구축 (전체 데이터로 재학습 가능)\n",
    "best_params = study.best_trials[0].params\n",
    "\n",
    "final_model = LGBMRegressor(**best_params, random_state=42, n_jobs=-1)\n",
    "final_model.fit(X_train, y_train, categorical_feature=categorical_columns\n",
    ")\n",
    "\n",
    "# 최종 모델의 검증 예측 및 평가 (예시)\n",
    "pred_probas_final = final_model.predict(X_valid)\n",
    "final_r2 = r2_score(y_valid, pred_probas_final)\n",
    "print(\"\\n최종 모델 평가:\")\n",
    "print(\"  R² Score: {:.4f}\".format(final_r2))"
   ]
  },
  {
   "cell_type": "code",
   "execution_count": 18,
   "id": "a1c00338",
   "metadata": {},
   "outputs": [],
   "source": [
    "pred_probas = final_model.predict(test_encoded)\n",
    "sample_submission = pd.read_csv('./sample_submission.csv')\n",
    "sample_submission['probability'] = pred_probas\n",
    "sample_submission.to_csv('./submit/submit_16.csv', index=False)"
   ]
  },
  {
   "cell_type": "markdown",
   "id": "b1f7e272",
   "metadata": {},
   "source": [
    "## 앙상블 테스트"
   ]
  },
  {
   "cell_type": "code",
   "execution_count": 10,
   "id": "1b49a0c5",
   "metadata": {},
   "outputs": [
    {
     "ename": "",
     "evalue": "",
     "output_type": "error",
     "traceback": [
      "\u001b[1;31mThe Kernel crashed while executing code in the current cell or a previous cell. \n",
      "\u001b[1;31mPlease review the code in the cell(s) to identify a possible cause of the failure. \n",
      "\u001b[1;31mClick <a href='https://aka.ms/vscodeJupyterKernelCrash'>here</a> for more info. \n",
      "\u001b[1;31mView Jupyter <a href='command:jupyter.viewOutput'>log</a> for further details."
     ]
    },
    {
     "ename": "",
     "evalue": "",
     "output_type": "error",
     "traceback": [
      "\u001b[1;31mCanceled future for execute_request message before replies were done"
     ]
    },
    {
     "ename": "",
     "evalue": "",
     "output_type": "error",
     "traceback": [
      "\u001b[1;31mCanceled future for execute_request message before replies were done. \n",
      "\u001b[1;31mView Jupyter <a href='command:jupyter.viewOutput'>log</a> for further details."
     ]
    }
   ],
   "source": [
    "import numpy as np\n",
    "import pandas as pd\n",
    "from sklearn.datasets import load_breast_cancer\n",
    "from sklearn.model_selection import train_test_split, KFold\n",
    "from sklearn.metrics import roc_auc_score\n",
    "from sklearn.ensemble import RandomForestClassifier\n",
    "from catboost import CatBoostClassifier\n",
    "from lightgbm import LGBMClassifier\n",
    "from sklearn.linear_model import LogisticRegression\n",
    "\n",
    "# 1. 데이터 준비\n",
    "\n",
    "# 2. 기본 모델(1차 모델) 정의\n",
    "# - CatBoostClassifier (verbose=0으로 설정하여 출력 생략)\n",
    "cat_model = CatBoostClassifier(iterations=200, learning_rate=0.1, depth=6, verbose=0, random_state=42)\n",
    "# - RandomForestClassifier\n",
    "rf_model = RandomForestClassifier(n_estimators=100, random_state=42)\n",
    "# - LightGBMClassifier\n",
    "lgbm_model = LGBMClassifier(n_estimators=200, learning_rate=0.1, random_state=42)\n",
    "\n",
    "# 3. 기본 모델 학습 및 예측 (여기서는 단순하게 전체 학습 데이터를 이용)\n",
    "cat_model.fit(X_train, y_train)\n",
    "rf_model.fit(X_train, y_train)\n",
    "lgbm_model.fit(X_train, y_train)\n",
    "\n",
    "# 각 기본 모델의 검증 데이터에 대한 양성(1) 확률 예측\n",
    "cat_pred = cat_model.predict_proba(X_valid)[:, 1]\n",
    "rf_pred = rf_model.predict_proba(X_valid)[:, 1]\n",
    "lgbm_pred = lgbm_model.predict_proba(X_valid)[:, 1]\n",
    "\n",
    "# 4. 기본 모델들의 예측 확률을 새로운 피처로 결합하여 스태킹 데이터셋 생성\n",
    "# (각 행은 검증 데이터의 한 샘플에 대한 세 모델의 예측 확률)\n",
    "stacked_features = np.column_stack([cat_pred, rf_pred, lgbm_pred])\n",
    "\n",
    "# 5. 메타 모델(2차 모델) 정의 및 학습\n",
    "# 여기서는 간단하게 로지스틱 회귀를 메타 모델로 사용하여 결합\n",
    "meta_model = LogisticRegression(random_state=42)\n",
    "meta_model.fit(stacked_features, y_valid)  # 주의: 실제 스태킹에서는 별도의 Out-Of-Fold 예측 결과를 사용합니다.\n",
    "\n",
    "# 6. 최종 스태킹 앙상블 예측 및 평가\n",
    "# 검증 데이터에 대한 메타 모델의 예측 확률\n",
    "meta_pred = meta_model.predict_proba(stacked_features)[:, 1]\n",
    "\n",
    "# 개별 기본 모델과 스태킹 앙상블의 ROC-AUC 점수 계산\n",
    "auc_cat = roc_auc_score(y_valid, cat_pred)\n",
    "auc_rf = roc_auc_score(y_valid, rf_pred)\n",
    "auc_lgbm = roc_auc_score(y_valid, lgbm_pred)\n",
    "auc_stacking = roc_auc_score(y_valid, meta_pred)\n",
    "\n",
    "print(\"개별 모델 ROC-AUC:\")\n",
    "print(f\"  CatBoost:    {auc_cat:.4f}\")\n",
    "print(f\"  RandomForest:{auc_rf:.4f}\")\n",
    "print(f\"  LightGBM:    {auc_lgbm:.4f}\")\n",
    "print(\"\\n스태킹 앙상블 ROC-AUC:\")\n",
    "print(f\"  Meta (Logistic Regression): {auc_stacking:.4f}\")\n",
    "\n"
   ]
  },
  {
   "cell_type": "markdown",
   "id": "881a4c1d",
   "metadata": {},
   "source": [
    "## 파일 제출"
   ]
  },
  {
   "cell_type": "code",
   "execution_count": 9,
   "id": "d33b8c86-bc55-46c5-a7b8-378722faa42c",
   "metadata": {},
   "outputs": [],
   "source": [
    "pred_probas = final_model.predict_proba(X_test_encoded)[:, 1]\n",
    "print(\"예측 확률:\", pred_probas)"
   ]
  },
  {
   "cell_type": "code",
   "execution_count": 10,
   "id": "3e1dbd6e-bff9-4bbf-8740-7e6cee6ef443",
   "metadata": {},
   "outputs": [],
   "source": [
    "sample_submission = pd.read_csv('./sample_submission.csv')\n",
    "sample_submission['probability'] = pred_probas\n",
    "sample_submission.to_csv('./submit/submit_10.csv', index=False)"
   ]
  },
  {
   "cell_type": "code",
   "execution_count": 11,
   "id": "8ffe9ea3-2339-451c-8424-bbce482f4498",
   "metadata": {},
   "outputs": [],
   "source": []
  }
 ],
 "metadata": {
  "kernelspec": {
   "display_name": "Python 3 (ipykernel)",
   "language": "python",
   "name": "python3"
  },
  "language_info": {
   "codemirror_mode": {
    "name": "ipython",
    "version": 3
   },
   "file_extension": ".py",
   "mimetype": "text/x-python",
   "name": "python",
   "nbconvert_exporter": "python",
   "pygments_lexer": "ipython3",
   "version": "3.10.16"
  }
 },
 "nbformat": 4,
 "nbformat_minor": 5
}
